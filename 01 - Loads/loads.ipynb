{
 "cells": [
  {
   "cell_type": "markdown",
   "id": "f6118391-3fd3-4ea8-a0fc-8ffd6c7cb87c",
   "metadata": {},
   "source": [
    "# Load Cases 🐃 🚚"
   ]
  },
  {
   "cell_type": "markdown",
   "id": "1bdbda39-e409-4d8e-8f09-947a6f7791cf",
   "metadata": {},
   "source": [
    "## 1. Like working with different currencies 💱\n",
    "\n",
    "Totals (or sub-totals) need to be collected for each load category separately."
   ]
  },
  {
   "cell_type": "code",
   "execution_count": 136,
   "id": "e69ee44a-13d0-4e79-9b7d-427f5525f949",
   "metadata": {},
   "outputs": [
    {
     "name": "stdout",
     "output_type": "stream",
     "text": [
      "DL=50, LL=90, SL=15, WL=10\n"
     ]
    }
   ],
   "source": [
    "DL_2 = 25\n",
    "LL_2 = 30\n",
    "SL_2 = 15\n",
    "WL_2 = 10\n",
    "\n",
    "DL_1 = 25\n",
    "LL_1 = 60\n",
    "\n",
    "DL = DL_1 + DL_2\n",
    "LL = LL_1 + LL_2\n",
    "SL = SL_2\n",
    "WL = WL_2\n",
    "print(f\"{DL=}, {LL=}, {SL=}, {WL=}\")"
   ]
  },
  {
   "cell_type": "markdown",
   "id": "a0c7d19c-cf88-4497-b578-088333deae64",
   "metadata": {},
   "source": [
    "## 2. Factoring allows for conversion to \"a common currency\" 💶\n",
    "\n",
    "In order to see if there is enough money in the account (member capacity) to pay for the expenses (load demand), we need to convert to a \"common currency\" by factoring."
   ]
  },
  {
   "cell_type": "code",
   "execution_count": 137,
   "id": "84f432cc-5373-4f19-9aeb-5638d718a144",
   "metadata": {},
   "outputs": [
    {
     "name": "stdout",
     "output_type": "stream",
     "text": [
      "FL=212.5\n"
     ]
    }
   ],
   "source": [
    "FL = 1.25*DL + 1.5*LL + 1.0*SL\n",
    "print(f\"{FL=}\")"
   ]
  },
  {
   "cell_type": "markdown",
   "id": "f4456fe3-036e-41c2-8565-2b9645e7ad13",
   "metadata": {},
   "source": [
    "## 3. Managing the many possible combinations of factored loads  🏋️‍♀‍💃🌨"
   ]
  },
  {
   "cell_type": "markdown",
   "id": "0594c0b1-3ee6-41c1-8ee8-36e6609570d1",
   "metadata": {},
   "source": [
    "### A. Separate functions 🙅\n",
    "\n",
    "Pros: \n",
    "* Once written, each function has its own unique name can be called easily with basic inputs (i.e. just the loads)\n",
    "* Conceptually simple\n",
    "\n",
    "Cons:\n",
    "* Lots of repetitive code to write\n",
    "* Might be difficult to maintain, easy to introduce bugs through over-repetition\n",
    "* Function signatures are highly variable (e.g. some funcs only take a `DL` argument, some take `DL`, `LL`, and `SL`). Difficult to write general-purpose functions because many `if-else` statements will need to be written."
   ]
  },
  {
   "cell_type": "code",
   "execution_count": 138,
   "id": "d59bb416-3569-4e0c-802f-b849b1282601",
   "metadata": {},
   "outputs": [],
   "source": [
    "def LC1(DL: float) -> float:\n",
    "    return 1.4 * DL\n",
    "\n",
    "def LC2(DL: float, LL: float) -> float:\n",
    "    return 1.25 * DL + 1.5 * LL\n",
    "\n",
    "def LC2a(DL: float, LL: float, SL: float) -> float:\n",
    "    return 1.25 * DL + 1.5 * LL + 1.0 * SL\n",
    "\n",
    "def LC2b(DL: float, LL: float, WL: float) -> float:\n",
    "    return 0.9 * DL + 1.5 * LL + 0.4 * WL\n",
    "\n",
    "def LC2c(DL: float, LL: float, WL: float) -> float:\n",
    "    return 1.25 * DL + 1.5 * LL + 0.4 * WL\n",
    "    "
   ]
  },
  {
   "cell_type": "code",
   "execution_count": 139,
   "id": "b7d33655-5fa2-4561-82ce-fd5a5f4b84d4",
   "metadata": {},
   "outputs": [
    {
     "name": "stdout",
     "output_type": "stream",
     "text": [
      "DL=50, LL=90, SL=15, WL=10\n"
     ]
    },
    {
     "data": {
      "text/plain": [
       "184.0"
      ]
     },
     "execution_count": 139,
     "metadata": {},
     "output_type": "execute_result"
    }
   ],
   "source": [
    "print(f\"{DL=}, {LL=}, {SL=}, {WL=}\")\n",
    "LC2b(DL=DL, LL=LL, WL=WL)"
   ]
  },
  {
   "cell_type": "markdown",
   "id": "0f5be620-47e8-4214-bf9b-89735c0c7970",
   "metadata": {},
   "source": [
    "## B. A generic function 👩‍💻\n",
    "\n",
    "Pros: \n",
    "* Write just one function to handle all cases\n",
    "* Flexible to handle any inputs\n",
    "* Load combination factors can be stored in an external file: easy to maintain\n",
    "* Extensible\n",
    "\n",
    "Cons: \n",
    "* Calling the function could get repetitive and tedious, especially if being used in an interactive setting.\n",
    "* Bad inputs and errors can occur when _calling_ the function in an interactive setting."
   ]
  },
  {
   "cell_type": "code",
   "execution_count": 140,
   "id": "b0716522-1c65-45f7-8699-669cdb6e03f8",
   "metadata": {},
   "outputs": [],
   "source": [
    "def factor_loads(\n",
    "    DL_factor: float = 0,\n",
    "    DL: float = 0,\n",
    "    LL_factor: float = 0,\n",
    "    LL: float = 0,\n",
    "    SL_factor: float = 0,\n",
    "    SL: float = 0,\n",
    "    WL_factor: float = 0,\n",
    "    WL: float = 0,\n",
    "    EL_factor: float = 0,\n",
    "    EL: float = 0,\n",
    ") -> float:\n",
    "    \"\"\"\n",
    "    Returns the factored load for the given load factors\n",
    "    and loads.\n",
    "    \"\"\"\n",
    "    factored_load = (\n",
    "        DL_factor * DL\n",
    "        + LL_factor * LL\n",
    "        + SL_factor * SL\n",
    "        + WL_factor * WL\n",
    "        + EL_factor * EL\n",
    "    )\n",
    "    return factored_load"
   ]
  },
  {
   "cell_type": "code",
   "execution_count": 141,
   "id": "cbf5bf96-b440-4925-8c37-f043d4dc02fb",
   "metadata": {},
   "outputs": [
    {
     "name": "stdout",
     "output_type": "stream",
     "text": [
      "DL=50, LL=90, SL=15, WL=10\n",
      "lc2=197.5, lc2a=212.5\n"
     ]
    }
   ],
   "source": [
    "lc2 = factor_loads(DL_factor=1.25, DL=DL, LL_factor=1.5, LL=LL)\n",
    "lc2a = factor_loads(\n",
    "    DL_factor = 1.25, \n",
    "    DL=DL, \n",
    "    LL_factor = 1.5, \n",
    "    LL=LL, \n",
    "    SL_factor=1.0, \n",
    "    SL=SL\n",
    ")\n",
    "print(f\"{DL=}, {LL=}, {SL=}, {WL=}\")\n",
    "print(f\"{lc2=}, {lc2a=}\")"
   ]
  },
  {
   "cell_type": "markdown",
   "id": "f75fcdd0-613b-45c5-a14c-210d233e000b",
   "metadata": {},
   "source": [
    "## C. Vector math\n",
    "\n",
    "Pros: \n",
    "* Fast\n",
    "* Flexible for different inputs\n",
    "* Load combination vectors can be stored in an external file: easy to maintain.\n",
    "\n",
    "Cons: \n",
    "* Arrays are positional but do not have \"labelled positions\"\n",
    "* If you need to add an array position, all corresponding arrays need to be updated across all functions (less extensible)"
   ]
  },
  {
   "cell_type": "code",
   "execution_count": 142,
   "id": "c0e423f5-8cc8-4f0f-aea7-8114936b67d0",
   "metadata": {},
   "outputs": [
    {
     "name": "stdout",
     "output_type": "stream",
     "text": [
      "fl=212.5\n"
     ]
    }
   ],
   "source": [
    "import numpy as np\n",
    "\n",
    "LC1 = [1.4, 0, 0, 0, 0]\n",
    "LC2 = [1.25, 1.5, 0, 0, 0]\n",
    "LC2a = [1.25, 1.5, 1.0, 0, 0]\n",
    "LC2b = [0.9, 1.5, 0, 0.4, 0]\n",
    "\n",
    "load = [DL, LL, SL, WL, 0]\n",
    "\n",
    "def factor_vec_load(load_vector: np.ndarray, factor_vector: np.ndarray) -> float:\n",
    "    \"\"\"\n",
    "    Returns the loads in 'load_vector' factored by 'factor_vector'.\n",
    "    Both arrays must be the same length.\n",
    "    \"\"\"\n",
    "    return sum(load_vector * factor_vector)\n",
    "    \n",
    "fl = factor_vec_load(np.array(load), np.array(LC2a))\n",
    "\n",
    "print(f\"{fl=}\")\n"
   ]
  },
  {
   "cell_type": "markdown",
   "id": "6d4a40c8-32ce-47b4-868f-bff85dae0573",
   "metadata": {},
   "source": [
    "## 4. Storing Load Combinations 📚"
   ]
  },
  {
   "cell_type": "code",
   "execution_count": 143,
   "id": "8d37e23b-c9c3-4fe2-a852-d675e18e3f40",
   "metadata": {},
   "outputs": [],
   "source": [
    "import json"
   ]
  },
  {
   "cell_type": "markdown",
   "id": "02c4899c-b8bd-4507-8a5e-9b01b7691fa5",
   "metadata": {},
   "source": [
    "### Factor Dictionaries 📔\n",
    "\n",
    "```json\n",
    "{\n",
    "    \"LC1\": {\n",
    "        \"DL_factor\": 1.4\n",
    "    },\n",
    "    \"LC2\": {\n",
    "        \"DL_factor\": 1.25,\n",
    "        \"LL_factor\": 1.5\n",
    "    },\n",
    "    \"LC2a\": {\n",
    "        \"DL_factor\": 0.9,\n",
    "        \"LL_factor\": 1.5\n",
    "    },\n",
    "    \"LC2b\": {\n",
    "        \"DL_factor\": 1.25,\n",
    "        \"LL_factor\": 1.5,\n",
    "        \"SL_factor\": 1.0\n",
    "    },\n",
    "    \"LC2c\": {\n",
    "        \"DL_factor\": 1.25,\n",
    "        \"LL_factor\": 1.5,\n",
    "        \"WL_factor\": 1.0\n",
    "    },\n",
    "    \"LC2d\": {\n",
    "        \"DL_factor\": 0.9,\n",
    "        \"LL_factor\": 1.5,\n",
    "        \"WL_factor\": 0.4\n",
    "    }\n",
    "}\n",
    "```"
   ]
  },
  {
   "cell_type": "code",
   "execution_count": 144,
   "id": "9fe3d80e-ede5-4ab7-9937-334b34efc489",
   "metadata": {},
   "outputs": [
    {
     "data": {
      "text/plain": [
       "{'LC1': {'DL_factor': 1.4},\n",
       " 'LC2': {'DL_factor': 1.25, 'LL_factor': 1.5},\n",
       " 'LC2a': {'DL_factor': 0.9, 'LL_factor': 1.5},\n",
       " 'LC2b': {'DL_factor': 1.25, 'LL_factor': 1.5, 'SL_factor': 1.0},\n",
       " 'LC2c': {'DL_factor': 1.25, 'LL_factor': 1.5, 'WL_factor': 1.0},\n",
       " 'LC2d': {'DL_factor': 0.9, 'LL_factor': 1.5, 'WL_factor': 0.4}}"
      ]
     },
     "execution_count": 144,
     "metadata": {},
     "output_type": "execute_result"
    }
   ],
   "source": [
    "with open(\"NBCC_dict.json\", 'r') as json_file:\n",
    "    nbcc_dict = json.load(json_file)\n",
    "nbcc_dict"
   ]
  },
  {
   "cell_type": "markdown",
   "id": "81d33dec-a446-4930-baac-338b4aa0fad4",
   "metadata": {},
   "source": [
    "### Vector dictionaries ➡➡➡➡➡\n",
    "\n",
    "```json\n",
    "{\n",
    "    \"LC1\": [1.4, 0, 0, 0, 0],\n",
    "    \"LC2\": [1.25, 1.5, 0, 0, 0],\n",
    "    \"LC2a\": [0.9, 1.5, 0, 0, 0],\n",
    "    \"LC2b\": [1.25, 1.5, 1.0, 0, 0],\n",
    "    \"LC2c\": [1.25, 1.5, 0, 0.4, 0],\n",
    "    \"LC2d\": [0.9, 1.5, 0.4, 0, 0],\n",
    "}\n",
    "```"
   ]
  },
  {
   "cell_type": "code",
   "execution_count": 145,
   "id": "1114a577-9e4c-4064-a79b-c27c60e601e1",
   "metadata": {},
   "outputs": [
    {
     "data": {
      "text/plain": [
       "{'LC1': [1.4, 0, 0, 0, 0],\n",
       " 'LC2': [1.25, 1.5, 0, 0, 0],\n",
       " 'LC2a': [0.9, 1.5, 0, 0, 0],\n",
       " 'LC2b': [1.25, 1.5, 1.0, 0, 0],\n",
       " 'LC2c': [1.25, 1.5, 0, 0.4, 0],\n",
       " 'LC2d': [0.9, 1.5, 0.4, 0, 0]}"
      ]
     },
     "execution_count": 145,
     "metadata": {},
     "output_type": "execute_result"
    }
   ],
   "source": [
    "with open('NBCC_vec.json', 'r') as json_file:\n",
    "    nbcc_vec = json.load(json_file)\n",
    "nbcc_vec"
   ]
  },
  {
   "cell_type": "code",
   "execution_count": 146,
   "id": "724c8eee-fdd5-454e-abfb-3436ec75e436",
   "metadata": {},
   "outputs": [
    {
     "name": "stdout",
     "output_type": "stream",
     "text": [
      "factor_loads(DL=2.4, LL=0.9, SL=3.6, **nbcc_dict[\"LC2a\"])=3.5100000000000002\n",
      "factor_vec_load(np.array([2.4, 0.9, 3.6, 0, 0]), np.array(nbcc_vec[\"LC2a\"]))=3.5100000000000002\n"
     ]
    }
   ],
   "source": [
    "print(f'{factor_loads(DL=2.4, LL=0.9, SL=3.6, **nbcc_dict[\"LC2a\"])=}')\n",
    "print(f'{factor_vec_load(np.array([2.4, 0.9, 3.6, 0, 0]), np.array(nbcc_vec[\"LC2a\"]))=}')"
   ]
  },
  {
   "cell_type": "markdown",
   "id": "417700e7-22f7-4321-a567-478c972d3eff",
   "metadata": {},
   "source": [
    "## 5. Load Categories 🔢\n",
    "\n",
    "> Sometimes there are two load \"categories\" that we may want to treat as being a part of the same load case.\n",
    ">\n",
    "> e.g. Both self-weight and super-imposed dead load can be considered \"dead load\" or `DL`"
   ]
  },
  {
   "cell_type": "code",
   "execution_count": 147,
   "id": "8ec28f2a-0a16-463f-898f-1a9e10159c3c",
   "metadata": {},
   "outputs": [
    {
     "name": "stdout",
     "output_type": "stream",
     "text": [
      "service_loads={'DL': 44, 'LL': 180, 'SL': 32}\n"
     ]
    }
   ],
   "source": [
    "def transform_to_service_loads(loads: dict, load_categories: dict) -> dict:\n",
    "    \"\"\"\n",
    "    Returns a dictionary of service loads (i.e. loads conforming to the\n",
    "    NBCC categories of DL, LL, SL, etc.) obtained from the given loads\n",
    "    in 'loads' correlated against the load types in 'load_categories'.\n",
    "    \n",
    "    If the load type in 'loads' is not listed in 'load_categories', no \n",
    "    transformation takes place.\n",
    "    \"\"\"\n",
    "    service_loads = {} # acc\n",
    "    for load_name, load in loads.items():\n",
    "        load_type = load_categories.get(load_name, load_name)\n",
    "        if load_type in service_loads:\n",
    "            service_loads[load_type] = service_loads[load_type] + load\n",
    "        else:\n",
    "            service_loads.update({load_type: load})\n",
    "    return service_loads\n",
    "\n",
    "### Example\n",
    "\n",
    "load_categories_lookup = {\n",
    "    \"SW\": \"DL\",\n",
    "    \"SDL\": \"DL\",\n",
    "    \"Planter Soil\": \"LL\",\n",
    "    \"Snow\": \"SL\", \n",
    "    \"Rain\": \"SL\"\n",
    "}\n",
    "loads = {\"SW\": 14, \"SDL\": 30, \"Planter Soil\": 180, \"Snow\": 30, \"Rain\": 2}\n",
    "\n",
    "service_loads = transform_to_service_loads(loads, load_categories_lookup)\n",
    "print(f\"{service_loads=}\")"
   ]
  },
  {
   "cell_type": "markdown",
   "id": "ab05794b-f542-4de6-88bc-0aa7b779ef7b",
   "metadata": {},
   "source": [
    "## 6. Find maximum factored load\n",
    "\n",
    "> Two approaches:\n",
    "> 1. Return just the maximum load\n",
    "> 2. Return the maximum load AND which load case produced it"
   ]
  },
  {
   "cell_type": "markdown",
   "id": "3b88c1c7-0c18-49fc-9c0d-17f33ba68550",
   "metadata": {},
   "source": [
    "### A. Maximum value only (both dict and vector examples)"
   ]
  },
  {
   "cell_type": "code",
   "execution_count": 148,
   "id": "668d9656-0aec-4956-88b3-852373350406",
   "metadata": {},
   "outputs": [
    {
     "name": "stdout",
     "output_type": "stream",
     "text": [
      "Dictionary example:  service_loads={'DL': 44, 'LL': 180, 'SL': 32}\n",
      "max_factored=357.0 \n",
      "\n",
      "Vector example:  service_loads=[44, 180, 32, 0, 0]\n",
      "max_factored=357.0\n"
     ]
    }
   ],
   "source": [
    "def max_factored_dict(load: dict, load_combinations: dict) -> float:\n",
    "    \"\"\"\n",
    "    Returns a float representing the maximum factored load of 'load' calculated\n",
    "    from all of the load combinations in 'load_factors'.\n",
    "    \"\"\"\n",
    "    fl = 0 # acc\n",
    "    for load_combination, load_factors in load_combinations.items():\n",
    "        current_fl = factor_loads(**load, **load_factors)\n",
    "        fl = max(current_fl, fl)\n",
    "    return fl\n",
    "\n",
    "### Example\n",
    "service_loads = {'DL': 44, 'LL': 180, 'SL': 32}\n",
    "print(\"Dictionary example: \", f\"{service_loads=}\")\n",
    "\n",
    "max_factored = max_factored_dict(service_loads, nbcc_dict)\n",
    "print(f\"{max_factored=}\", \"\\n\")\n",
    "\n",
    "\n",
    "def max_factored_vec(load: list, load_combinations: dict) -> float:\n",
    "    \"\"\"\n",
    "    Returns a float representing the maximum factored load of 'load' calculated\n",
    "    from all of the load combinations in 'load_factors'.\n",
    "    \"\"\"\n",
    "    fl = 0 # acc\n",
    "    for load_combination, load_factors in load_combinations.items():\n",
    "        load_vector = np.array(load)\n",
    "        factor_vector = np.array(load_factors)\n",
    "        current_fl = factor_vec_load(load_vector, factor_vector)\n",
    "        fl = max(current_fl, fl)\n",
    "    return fl\n",
    "\n",
    "### Example\n",
    "service_loads = [44, 180, 32, 0, 0]\n",
    "print(\"Vector example: \", f\"{service_loads=}\")\n",
    "max_factored = max_factored_vec(service_loads, nbcc_vec)\n",
    "print(f\"{max_factored=}\")"
   ]
  },
  {
   "cell_type": "markdown",
   "id": "e6f78c85-51c3-4c52-b3fe-cdf8b5ae579a",
   "metadata": {},
   "source": [
    "### B. Maximum value and governing combination (both dict and vector examples)"
   ]
  },
  {
   "cell_type": "code",
   "execution_count": 149,
   "id": "9ce36293-61e2-41fa-89e1-cbf0dafc4d90",
   "metadata": {},
   "outputs": [
    {
     "name": "stdout",
     "output_type": "stream",
     "text": [
      "Dictionary example:  service_loads={'DL': 44, 'LL': 180, 'SL': 32}\n",
      "max_factored=(357.0, 'LC2b') \n",
      "\n",
      "service_loads={'DL': 44, 'LL': 180, 'SL': 32}\n",
      "fl=357.0\n",
      "nbcc_dict[lc]={'DL_factor': 1.25, 'LL_factor': 1.5, 'SL_factor': 1.0}\n",
      "\n",
      "\n",
      "Vector example:  service_loads=[44, 180, 32, 0, 0]\n",
      "max_factored=(357.0, 'LC2b')\n",
      "\n",
      "service_loads=[44, 180, 32, 0, 0]\n",
      "fl=357.0\n",
      "nbcc_vec[lc]=[1.25, 1.5, 1.0, 0, 0]\n"
     ]
    }
   ],
   "source": [
    "def max_factored_dict_govern(load: dict, load_combinations: dict) -> float:\n",
    "    \"\"\"\n",
    "    Returns a float representing the maximum factored load of 'load' calculated\n",
    "    from all of the load combinations in 'load_factors'.\n",
    "    \"\"\"\n",
    "    fl = 0 # acc\n",
    "    governing_lc = \"\" # ADDED\n",
    "    for load_combination, load_factors in load_combinations.items():\n",
    "        current_fl = factor_loads(**load, **load_factors)\n",
    "        if current_fl > fl: # ADDED\n",
    "            governing_lc = load_combination # ADDED\n",
    "            fl = current_fl # UPDATE\n",
    "    return fl, governing_lc\n",
    "\n",
    "### Example\n",
    "\n",
    "service_loads = {'DL': 44, 'LL': 180, 'SL': 32}\n",
    "print(\"Dictionary example: \", f\"{service_loads=}\")\n",
    "\n",
    "max_factored = max_factored_dict_govern(service_loads, nbcc_dict)\n",
    "print(f\"{max_factored=}\", \"\\n\")\n",
    "fl, lc = max_factored\n",
    "print(f\"{service_loads=}\\n{fl=}\\n{nbcc_dict[lc]=}\\n\\n\")\n",
    "\n",
    "\n",
    "def max_factored_vec_govern(load: list, load_combinations: dict) -> float:\n",
    "    \"\"\"\n",
    "    Returns a float representing the maximum factored load of 'load' calculated\n",
    "    from all of the load combinations in 'load_factors'.\n",
    "    \"\"\"\n",
    "    fl = 0 # acc\n",
    "    governing_lc = \"\" # ADDED\n",
    "    for load_combination, load_factors in load_combinations.items():\n",
    "        load_vector = np.array(load)\n",
    "        factor_vector = np.array(load_factors)\n",
    "        current_fl = factor_vec_load(load_vector, factor_vector)\n",
    "        if current_fl > fl: # ADDED\n",
    "            governing_lc = load_combination # ADDED\n",
    "            fl = current_fl # UPDATE\n",
    "    return fl, governing_lc\n",
    "\n",
    "### Example\n",
    "\n",
    "service_loads = [44, 180, 32, 0, 0]\n",
    "print(\"Vector example: \", f\"{service_loads=}\")\n",
    "max_factored = max_factored_vec_govern(service_loads, nbcc_vec)\n",
    "print(f\"{max_factored=}\\n\")\n",
    "fl, lc = max_factored\n",
    "print(f\"{service_loads=}\\n{fl=}\\n{nbcc_vec[lc]=}\")"
   ]
  },
  {
   "cell_type": "markdown",
   "id": "fe1d2f28-4f31-4032-a1c5-680c384326af",
   "metadata": {
    "tags": []
   },
   "source": [
    "## 7. Occupancies 🏠 🏢 🏥\n",
    "\n",
    "> In buildings, loads can often be grouped together in different occupancies.\n",
    ">\n",
    "> `dict`s can be useful for organizing these."
   ]
  },
  {
   "cell_type": "code",
   "execution_count": 150,
   "id": "2c36c650-460c-40af-a516-cef72d6074bb",
   "metadata": {},
   "outputs": [],
   "source": [
    "import forallpeople as si\n",
    "si.environment('structural')"
   ]
  },
  {
   "cell_type": "markdown",
   "id": "214c645a-9793-4294-a9e7-a51efc58b1c3",
   "metadata": {},
   "source": [
    "### A. Occupancy dictionaries 📔"
   ]
  },
  {
   "cell_type": "code",
   "execution_count": 151,
   "id": "0ba2c2d0-d914-4389-8c52-d7a4580ca744",
   "metadata": {
    "tags": []
   },
   "outputs": [],
   "source": [
    "occupancies_dict = {\n",
    "    \"Residential\": {\n",
    "        \"SW\": 1.3,\n",
    "        \"SDL\": 1.1,\n",
    "        \"LL\": 2.4,\n",
    "    },\n",
    "    \"Residential Roof\": {\n",
    "        \"SW\": 0.6,\n",
    "        \"SDL\": 0.3,\n",
    "        \"Snow\": 1.1,\n",
    "        \"Rain\": 0.2,\n",
    "    },\n",
    "    \"Residential Amenity Roof\": {\n",
    "        \"SW\": 1.4,\n",
    "        \"SDL\": 1.0,\n",
    "        \"Planter Soil\": 3.6,\n",
    "        \"LL\": 4.8,\n",
    "    },\n",
    "    \"Rooftop Mech\": {\n",
    "         \"DL\": 1.83,\n",
    "     },\n",
    "}"
   ]
  },
  {
   "cell_type": "code",
   "execution_count": 152,
   "id": "7bd78f1a-959a-463f-8e47-8a485aed3429",
   "metadata": {
    "tags": []
   },
   "outputs": [
    {
     "name": "stdout",
     "output_type": "stream",
     "text": [
      "service_loads={'DL': 0.8999999999999999, 'SL': 1.3}\n",
      "max_fl=2.425, governing='LC2b'\n",
      "{'DL_factor': 1.25, 'LL_factor': 1.5, 'SL_factor': 1.0}\n"
     ]
    }
   ],
   "source": [
    "occupancy = \"Residential Roof\"\n",
    "\n",
    "service_loads = transform_to_service_loads(\n",
    "    occupancies_dict[occupancy],\n",
    "    load_categories_lookup\n",
    ")\n",
    "\n",
    "factored = max_factored_dict_govern(\n",
    "    service_loads,\n",
    "    nbcc_dict\n",
    ")\n",
    "\n",
    "max_fl, governing = factored\n",
    "print(f\"{service_loads=}\")\n",
    "print(f\"{max_fl=}, {governing=}\")\n",
    "print(f\"{nbcc_dict[governing]}\")"
   ]
  },
  {
   "cell_type": "markdown",
   "id": "1ad2c514-6deb-46ec-9b3c-4aff0bda7f75",
   "metadata": {},
   "source": [
    "### B. Occupancy vectors ➡➡➡➡➡\n",
    "\n",
    "> If you are wanting to use vectors for occupancies, it is easiest to use have your vectors already as _service loads_."
   ]
  },
  {
   "cell_type": "code",
   "execution_count": 153,
   "id": "f062189b-966e-457d-b755-1162e52d432e",
   "metadata": {
    "tags": []
   },
   "outputs": [],
   "source": [
    "# \n",
    "occupancies_vec = {\n",
    "    \"Residential\": np.array([2.4, 2.4, 0, 0, 0]),\n",
    "    \"Residential Roof\": np.array([0.9, 0, 1.3, 0, 0]),\n",
    "    \"Residential Amenity Roof\": np.array([2.6, 4.8, 0, 0, 0]),\n",
    "    \"Rooftop Mech\": np.array([1.83, 0, 0, 0, 0]),\n",
    "}"
   ]
  },
  {
   "cell_type": "code",
   "execution_count": 154,
   "id": "8b671f4c-02f3-4ff2-aa71-4db96b5b9754",
   "metadata": {},
   "outputs": [
    {
     "name": "stdout",
     "output_type": "stream",
     "text": [
      "service_loads=array([2.6, 4.8, 0. , 0. , 0. ])\n",
      "max_fl=10.45, governing='LC2'\n",
      "{'DL_factor': 1.25, 'LL_factor': 1.5}\n"
     ]
    }
   ],
   "source": [
    "occupancy = \"Residential Amenity Roof\"\n",
    "service_loads = occupancies_vec[occupancy]\n",
    "\n",
    "factored = max_factored_vec_govern(\n",
    "    service_loads,\n",
    "    nbcc_vec\n",
    ")\n",
    "\n",
    "max_fl, governing = factored\n",
    "print(f\"{service_loads=}\")\n",
    "print(f\"{max_fl=}, {governing=}\")\n",
    "print(f\"{nbcc_dict[governing]}\")"
   ]
  },
  {
   "cell_type": "markdown",
   "id": "23243658-4399-473e-be7a-2fd18f2c6154",
   "metadata": {},
   "source": [
    "# Code Summary 💡"
   ]
  },
  {
   "cell_type": "markdown",
   "id": "207e7a3f-559a-44c8-a64b-ee948dfc13ec",
   "metadata": {},
   "source": [
    "## Functions 🧰"
   ]
  },
  {
   "cell_type": "code",
   "execution_count": 155,
   "id": "dec66b63-cd43-4592-a1f4-677e768b753f",
   "metadata": {
    "tags": []
   },
   "outputs": [],
   "source": [
    "def max_factored_dict_govern(service_load: dict, load_combinations: dict) -> float:\n",
    "    \"\"\"\n",
    "    Returns a float representing the maximum factored load of 'load' calculated\n",
    "    from all of the load combinations in 'load_factors'.\n",
    "    \"\"\"\n",
    "    fl = 0 # acc\n",
    "    governing_lc = \"\" # ADDED\n",
    "    for load_combination, load_factors in load_combinations.items():\n",
    "        current_fl = factor_loads(**service_load, **load_factors)\n",
    "        if current_fl > fl: # ADDED\n",
    "            governing_lc = load_combination # ADDED\n",
    "            fl = current_fl # UPDATE\n",
    "    return fl, governing_lc\n",
    "\n",
    "\n",
    "def min_factored_dict_govern(service_load: dict, load_combinations: dict) -> float:\n",
    "    \"\"\"\n",
    "    Returns a float representing the minimum factored load of 'load' calculated\n",
    "    from all of the load combinations in 'load_factors'.\n",
    "    \"\"\"\n",
    "    fl = float('inf') # acc\n",
    "    governing_lc = \"\" # ADDED\n",
    "    for load_combination, load_factors in load_combinations.items():\n",
    "        current_fl = factor_loads(**service_load, **load_factors)\n",
    "        if current_fl < fl: # ADDED\n",
    "            governing_lc = load_combination # ADDED\n",
    "            fl = current_fl # UPDATE\n",
    "    return fl, governing_lc\n",
    "\n",
    "\n",
    "def factor_loads(\n",
    "    DL_factor: float = 0,\n",
    "    DL: float = 0,\n",
    "    LL_factor: float = 0,\n",
    "    LL: float = 0,\n",
    "    SL_factor: float = 0,\n",
    "    SL: float = 0,\n",
    "    WL_factor: float = 0,\n",
    "    WL: float = 0,\n",
    "    EL_factor: float = 0,\n",
    "    EL: float = 0,\n",
    ") -> float:\n",
    "    \"\"\"\n",
    "    Returns the factored load for the given load factors\n",
    "    and loads.\n",
    "    \"\"\"\n",
    "    factored_load = (\n",
    "        DL_factor * DL\n",
    "        + LL_factor * LL\n",
    "        + SL_factor * SL\n",
    "        + WL_factor * WL\n",
    "        + EL_factor * EL\n",
    "    )\n",
    "    return factored_load\n",
    "\n",
    "\n",
    "def transform_to_service_loads(loads: dict, load_categories: dict) -> dict:\n",
    "    \"\"\"\n",
    "    Returns a dictionary of service loads (i.e. loads conforming to the\n",
    "    NBCC categories of DL, LL, SL, etc.) obtained from the given loads\n",
    "    in 'loads' correlated against the load types in 'load_categories'.\n",
    "    \n",
    "    If the load type in 'loads' is not listed in 'load_categories', no \n",
    "    transformation takes place.\n",
    "    \"\"\"\n",
    "    service_loads = {} # acc\n",
    "    for load_name, load in loads.items():\n",
    "        load_type = load_categories.get(load_name, load_name)\n",
    "        if load_type in service_loads:\n",
    "            service_loads[load_type] = service_loads[load_type] + load\n",
    "        else:\n",
    "            service_loads.update({load_type: load})\n",
    "    return service_loads"
   ]
  },
  {
   "cell_type": "markdown",
   "id": "d7c446d4-a155-4356-bc0f-d33af8b0fed8",
   "metadata": {},
   "source": [
    "## Data 💾"
   ]
  },
  {
   "cell_type": "code",
   "execution_count": 156,
   "id": "60965bcb-e9a4-4904-b75a-bbe7671cf2bc",
   "metadata": {},
   "outputs": [],
   "source": [
    "# Load Factors from JSON file\n",
    "with open(\"NBCC_dict.json\", 'r') as json_file:\n",
    "    nbcc_dict = json.load(json_file)\n",
    "\n",
    "    \n",
    "# Project-specific occupancies\n",
    "occupancies_dict = {\n",
    "    \"Residential\": {\n",
    "        \"SW\": 1.3,\n",
    "        \"SDL\": 1.1,\n",
    "        \"LL\": 2.4,\n",
    "    },\n",
    "    \"Residential Roof\": {\n",
    "        \"SW\": 0.6,\n",
    "        \"SDL\": 0.3,\n",
    "        \"Snow\": 1.1,\n",
    "        \"Rain\": 0.2,\n",
    "    },\n",
    "    \"Residential Amenity Roof\": {\n",
    "        \"SW\": 1.4,\n",
    "        \"SDL\": 1.0,\n",
    "        \"Planter Soil\": 3.6,\n",
    "        \"LL\": 4.8,\n",
    "    },\n",
    "    \"Rooftop Mech\": {\n",
    "         \"DL\": 1.83,\n",
    "     },\n",
    "}\n",
    "\n",
    "\n",
    "# Common load categories, specific to engineer\n",
    "## These can be stored in your own JSON file\n",
    "load_categories_lookup = {\n",
    "    \"SW\": \"DL\",\n",
    "    \"SDL\": \"DL\",\n",
    "    \"Planter Soil\": \"LL\",\n",
    "    \"Snow\": \"SL\", \n",
    "    \"Rain\": \"SL\"\n",
    "}"
   ]
  },
  {
   "cell_type": "markdown",
   "id": "6323c872-c36a-46e3-89e2-e9d48b4e9db3",
   "metadata": {},
   "source": [
    "# Practical Example 🔨"
   ]
  },
  {
   "cell_type": "code",
   "execution_count": 157,
   "id": "366d5112-9362-4c3f-8f38-1e2fcb232c69",
   "metadata": {},
   "outputs": [],
   "source": [
    "import pycba\n",
    "\n",
    "span_left = 4.5\n",
    "udl_left = {\n",
    "    \"SW\": 2.4 * span_left,\n",
    "    \"SDL\": 20,\n",
    "    \"LL\": 100,\n",
    "}\n",
    "\n",
    "span_right = 3.2\n",
    "udl_right = {\n",
    "    \"SW\": 2.4 * span_right,\n",
    "    \"SDL\": 16,\n",
    "    \"SL\": 70,\n",
    "}\n",
    "\n",
    "udl_left_service = transform_to_service_loads(udl_left, load_categories_lookup)\n",
    "udl_right_service = transform_to_service_loads(udl_right, load_categories_lookup)"
   ]
  },
  {
   "cell_type": "code",
   "execution_count": 169,
   "id": "b33b2d1d-ebca-485c-a546-959520cf13cc",
   "metadata": {},
   "outputs": [
    {
     "name": "stdout",
     "output_type": "stream",
     "text": [
      "left_reactions={'DL': 42.35742222222222, 'LL': 225.0, 'SL': -79.64444444444445}\n",
      "\n",
      "right_reactions={'DL': 172.01857777777775, 'LL': 224.99999999999994, 'SL': 303.6444444444445}\n"
     ]
    }
   ],
   "source": [
    "## Beam\n",
    "L = [span_left, span_right]\n",
    "EI = 39e3\n",
    "R = [-1, 0, -1, 0, 0, 0]\n",
    "\n",
    "left_reactions = {}\n",
    "right_reactions = {}\n",
    "for lc in (udl_left_service | udl_right_service).keys():\n",
    "    LM = []\n",
    "    load_span_left = [1, 1, udl_left_service.get(lc, 0), 0, 0]\n",
    "    load_span_right = [2, 1, udl_right_service.get(lc, 0), 0, 0]\n",
    "    \n",
    "    LM = [load_span_left, load_span_right]\n",
    "    beam = pycba.BeamAnalysis(L, EI, R, LM)\n",
    "    beam.analyze()\n",
    "\n",
    "    left_reactions.update({lc: beam.beam_results.R[0]})\n",
    "    right_reactions.update({lc: beam.beam_results.R[1]})\n",
    "print(f\"{left_reactions=}\\n\")\n",
    "print(f\"{right_reactions=}\")"
   ]
  },
  {
   "cell_type": "code",
   "execution_count": 168,
   "id": "db3b1ce7-4647-47f4-b877-957af82d1021",
   "metadata": {},
   "outputs": [
    {
     "name": "stdout",
     "output_type": "stream",
     "text": [
      "fl_left=(59.300391111111104, 'LC1')\n",
      "fl_right=(856.1676666666666, 'LC2b')\n"
     ]
    }
   ],
   "source": [
    "fl_left = min_factored_dict_govern(left_reactions, nbcc_dict)\n",
    "fl_right = max_factored_dict_govern(right_reactions, nbcc_dict)\n",
    "\n",
    "print(f\"{fl_left=}\\n{fl_right=}\")"
   ]
  }
 ],
 "metadata": {
  "kernelspec": {
   "display_name": "Python 3 (ipykernel)",
   "language": "python",
   "name": "python3"
  },
  "language_info": {
   "codemirror_mode": {
    "name": "ipython",
    "version": 3
   },
   "file_extension": ".py",
   "mimetype": "text/x-python",
   "name": "python",
   "nbconvert_exporter": "python",
   "pygments_lexer": "ipython3",
   "version": "3.10.4"
  }
 },
 "nbformat": 4,
 "nbformat_minor": 5
}
