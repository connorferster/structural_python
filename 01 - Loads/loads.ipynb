{
 "cells": [
  {
   "cell_type": "code",
   "execution_count": 2,
   "id": "e7b13d4e-d505-470d-8061-0e8484d6934a",
   "metadata": {},
   "outputs": [],
   "source": [
    "from rich import print"
   ]
  },
  {
   "cell_type": "markdown",
   "id": "f6118391-3fd3-4ea8-a0fc-8ffd6c7cb87c",
   "metadata": {},
   "source": [
    "# Load Cases 🐃 🚚"
   ]
  },
  {
   "cell_type": "markdown",
   "id": "1bdbda39-e409-4d8e-8f09-947a6f7791cf",
   "metadata": {},
   "source": [
    "## 1. Like working with different currencies 💱\n",
    "\n",
    "Totals (or sub-totals) need to be collected for each load category separately."
   ]
  },
  {
   "cell_type": "code",
   "execution_count": 3,
   "id": "e69ee44a-13d0-4e79-9b7d-427f5525f949",
   "metadata": {},
   "outputs": [
    {
     "data": {
      "text/html": [
       "<pre style=\"white-space:pre;overflow-x:auto;line-height:normal;font-family:Menlo,'DejaVu Sans Mono',consolas,'Courier New',monospace\"><span style=\"color: #808000; text-decoration-color: #808000\">D</span>=<span style=\"color: #008080; text-decoration-color: #008080; font-weight: bold\">50</span>, <span style=\"color: #808000; text-decoration-color: #808000\">L</span>=<span style=\"color: #008080; text-decoration-color: #008080; font-weight: bold\">90</span>, <span style=\"color: #808000; text-decoration-color: #808000\">S</span>=<span style=\"color: #008080; text-decoration-color: #008080; font-weight: bold\">15</span>, <span style=\"color: #808000; text-decoration-color: #808000\">W</span>=<span style=\"color: #008080; text-decoration-color: #008080; font-weight: bold\">10</span>\n",
       "</pre>\n"
      ],
      "text/plain": [
       "\u001b[33mD\u001b[0m=\u001b[1;36m50\u001b[0m, \u001b[33mL\u001b[0m=\u001b[1;36m90\u001b[0m, \u001b[33mS\u001b[0m=\u001b[1;36m15\u001b[0m, \u001b[33mW\u001b[0m=\u001b[1;36m10\u001b[0m\n"
      ]
     },
     "metadata": {},
     "output_type": "display_data"
    }
   ],
   "source": [
    "D_2 = 25\n",
    "L_2 = 30\n",
    "S_2 = 15\n",
    "W_2 = 10\n",
    "\n",
    "D_1 = 25\n",
    "L_1 = 60\n",
    "\n",
    "D = D_1 + D_2\n",
    "L = L_1 + L_2\n",
    "S = S_2\n",
    "W = W_2\n",
    "print(f\"{D=}, {L=}, {S=}, {W=}\")"
   ]
  },
  {
   "cell_type": "markdown",
   "id": "a0c7d19c-cf88-4497-b578-088333deae64",
   "metadata": {},
   "source": [
    "## 2. Factoring allows for conversion to \"a common currency\" 💶\n",
    "\n",
    "In order to see if there is enough money in the account (member capacity) to pay for the expenses (load demand), we need to convert to a \"common currency\" by factoring."
   ]
  },
  {
   "cell_type": "code",
   "execution_count": 4,
   "id": "84f432cc-5373-4f19-9aeb-5638d718a144",
   "metadata": {},
   "outputs": [
    {
     "data": {
      "text/html": [
       "<pre style=\"white-space:pre;overflow-x:auto;line-height:normal;font-family:Menlo,'DejaVu Sans Mono',consolas,'Courier New',monospace\"><span style=\"color: #808000; text-decoration-color: #808000\">fact</span>=<span style=\"color: #008080; text-decoration-color: #008080; font-weight: bold\">212.5</span>\n",
       "</pre>\n"
      ],
      "text/plain": [
       "\u001b[33mfact\u001b[0m=\u001b[1;36m212\u001b[0m\u001b[1;36m.5\u001b[0m\n"
      ]
     },
     "metadata": {},
     "output_type": "display_data"
    }
   ],
   "source": [
    "fact = 1.25*D + 1.5*L + 1.0*S\n",
    "print(f\"{fact=}\")"
   ]
  },
  {
   "cell_type": "markdown",
   "id": "f4456fe3-036e-41c2-8565-2b9645e7ad13",
   "metadata": {},
   "source": [
    "## 3. Managing the many possible combinations of factored loads  🏋️‍♀‍💃🌨"
   ]
  },
  {
   "cell_type": "markdown",
   "id": "0594c0b1-3ee6-41c1-8ee8-36e6609570d1",
   "metadata": {},
   "source": [
    "### A. Separate functions 🙅\n",
    "\n",
    "**Pros:**\n",
    "* One function, one name\n",
    "* Conceptually simple\n",
    "\n",
    "**Cons:**\n",
    "* Repetitive code\n",
    "    * Difficult to maintain, buggy\n",
    "* Inconsistent function signatures"
   ]
  },
  {
   "cell_type": "code",
   "execution_count": 5,
   "id": "d59bb416-3569-4e0c-802f-b849b1282601",
   "metadata": {},
   "outputs": [],
   "source": [
    "def LC1(D: float) -> float:\n",
    "    return 1.4 * D\n",
    "\n",
    "def LC2(D: float, L: float) -> float:\n",
    "    return 1.25 * D + 1.5 * L\n",
    "\n",
    "def LC2a(D: float, L: float, S: float) -> float:\n",
    "    return 1.25 * D + 1.5 * L + 1.0 * S\n",
    "\n",
    "def LC2b(D: float, L: float, W: float) -> float:\n",
    "    return 0.9 * D + 1.5 * L + 0.4 * W\n",
    "\n",
    "def LC2c(D: float, L: float, W: float) -> float:\n",
    "    return 1.25 * D + 1.5 * L + 0.4 * W\n",
    "    "
   ]
  },
  {
   "cell_type": "code",
   "execution_count": 6,
   "id": "b7d33655-5fa2-4561-82ce-fd5a5f4b84d4",
   "metadata": {},
   "outputs": [
    {
     "data": {
      "text/html": [
       "<pre style=\"white-space:pre;overflow-x:auto;line-height:normal;font-family:Menlo,'DejaVu Sans Mono',consolas,'Courier New',monospace\"><span style=\"color: #808000; text-decoration-color: #808000\">D</span>=<span style=\"color: #008080; text-decoration-color: #008080; font-weight: bold\">50</span>, <span style=\"color: #808000; text-decoration-color: #808000\">L</span>=<span style=\"color: #008080; text-decoration-color: #008080; font-weight: bold\">90</span>, <span style=\"color: #808000; text-decoration-color: #808000\">S</span>=<span style=\"color: #008080; text-decoration-color: #008080; font-weight: bold\">15</span>, <span style=\"color: #808000; text-decoration-color: #808000\">W</span>=<span style=\"color: #008080; text-decoration-color: #008080; font-weight: bold\">10</span>\n",
       "</pre>\n"
      ],
      "text/plain": [
       "\u001b[33mD\u001b[0m=\u001b[1;36m50\u001b[0m, \u001b[33mL\u001b[0m=\u001b[1;36m90\u001b[0m, \u001b[33mS\u001b[0m=\u001b[1;36m15\u001b[0m, \u001b[33mW\u001b[0m=\u001b[1;36m10\u001b[0m\n"
      ]
     },
     "metadata": {},
     "output_type": "display_data"
    },
    {
     "data": {
      "text/html": [
       "<pre style=\"white-space:pre;overflow-x:auto;line-height:normal;font-family:Menlo,'DejaVu Sans Mono',consolas,'Courier New',monospace\"><span style=\"color: #808000; text-decoration-color: #808000\">fact_lc2b</span>=<span style=\"color: #008080; text-decoration-color: #008080; font-weight: bold\">184.0</span>\n",
       "</pre>\n"
      ],
      "text/plain": [
       "\u001b[33mfact_lc2b\u001b[0m=\u001b[1;36m184\u001b[0m\u001b[1;36m.0\u001b[0m\n"
      ]
     },
     "metadata": {},
     "output_type": "display_data"
    }
   ],
   "source": [
    "print(f\"{D=}, {L=}, {S=}, {W=}\")\n",
    "fact_lc2b = LC2b(D=D, L=L, W=W)\n",
    "print(f\"{fact_lc2b=}\")"
   ]
  },
  {
   "cell_type": "markdown",
   "id": "fcdd58f3-8d1d-4dd7-989f-cbb71c662c91",
   "metadata": {},
   "source": [
    "## B. A generic function 👩‍💻"
   ]
  },
  {
   "cell_type": "markdown",
   "id": "8b535756-2d42-4cd3-9fb2-b49cb043d039",
   "metadata": {},
   "source": [
    "Pros: \n",
    "* One function to rule them all\n",
    "* Factors can be stored in separate file\n",
    "* Extensible\n",
    "    * As long as you don't have any new load types\n",
    "\n",
    "Cons: \n",
    "* Using the function \"manually\" can get tedious\n",
    "* Tediousness can lead to data entry errors in use"
   ]
  },
  {
   "cell_type": "code",
   "execution_count": 7,
   "id": "b0716522-1c65-45f7-8699-669cdb6e03f8",
   "metadata": {},
   "outputs": [],
   "source": [
    "def factor_loads(\n",
    "    D_factor: float = 0,\n",
    "    D: float = 0,\n",
    "    L_factor: float = 0,\n",
    "    L: float = 0,\n",
    "    S_factor: float = 0,\n",
    "    S: float = 0,\n",
    "    W_factor: float = 0,\n",
    "    W: float = 0,\n",
    "    E_factor: float = 0,\n",
    "    E: float = 0,\n",
    ") -> float:\n",
    "    \"\"\"\n",
    "    Returns the factored load for the given load factors\n",
    "    and loads.\n",
    "    \"\"\"\n",
    "    factored_load = (\n",
    "        D_factor * D\n",
    "        + L_factor * L\n",
    "        + S_factor * S\n",
    "        + W_factor * W\n",
    "        + E_factor * E\n",
    "    )\n",
    "    return factored_load"
   ]
  },
  {
   "cell_type": "code",
   "execution_count": 8,
   "id": "cbf5bf96-b440-4925-8c37-f043d4dc02fb",
   "metadata": {},
   "outputs": [
    {
     "data": {
      "text/html": [
       "<pre style=\"white-space:pre;overflow-x:auto;line-height:normal;font-family:Menlo,'DejaVu Sans Mono',consolas,'Courier New',monospace\"><span style=\"color: #808000; text-decoration-color: #808000\">D</span>=<span style=\"color: #008080; text-decoration-color: #008080; font-weight: bold\">50</span>, <span style=\"color: #808000; text-decoration-color: #808000\">L</span>=<span style=\"color: #008080; text-decoration-color: #008080; font-weight: bold\">90</span>, <span style=\"color: #808000; text-decoration-color: #808000\">S</span>=<span style=\"color: #008080; text-decoration-color: #008080; font-weight: bold\">15</span>, <span style=\"color: #808000; text-decoration-color: #808000\">W</span>=<span style=\"color: #008080; text-decoration-color: #008080; font-weight: bold\">10</span>\n",
       "</pre>\n"
      ],
      "text/plain": [
       "\u001b[33mD\u001b[0m=\u001b[1;36m50\u001b[0m, \u001b[33mL\u001b[0m=\u001b[1;36m90\u001b[0m, \u001b[33mS\u001b[0m=\u001b[1;36m15\u001b[0m, \u001b[33mW\u001b[0m=\u001b[1;36m10\u001b[0m\n"
      ]
     },
     "metadata": {},
     "output_type": "display_data"
    },
    {
     "data": {
      "text/html": [
       "<pre style=\"white-space:pre;overflow-x:auto;line-height:normal;font-family:Menlo,'DejaVu Sans Mono',consolas,'Courier New',monospace\"><span style=\"color: #808000; text-decoration-color: #808000\">fact_lc2</span>=<span style=\"color: #008080; text-decoration-color: #008080; font-weight: bold\">197.5</span>\n",
       "</pre>\n"
      ],
      "text/plain": [
       "\u001b[33mfact_lc2\u001b[0m=\u001b[1;36m197\u001b[0m\u001b[1;36m.5\u001b[0m\n"
      ]
     },
     "metadata": {},
     "output_type": "display_data"
    },
    {
     "data": {
      "text/html": [
       "<pre style=\"white-space:pre;overflow-x:auto;line-height:normal;font-family:Menlo,'DejaVu Sans Mono',consolas,'Courier New',monospace\"><span style=\"color: #808000; text-decoration-color: #808000\">fact_lc2a</span>=<span style=\"color: #008080; text-decoration-color: #008080; font-weight: bold\">212.5</span>\n",
       "</pre>\n"
      ],
      "text/plain": [
       "\u001b[33mfact_lc2a\u001b[0m=\u001b[1;36m212\u001b[0m\u001b[1;36m.5\u001b[0m\n"
      ]
     },
     "metadata": {},
     "output_type": "display_data"
    }
   ],
   "source": [
    "fact_lc2 = factor_loads(D_factor=1.25, D=D, L_factor=1.5, L=L)\n",
    "fact_lc2a = factor_loads(\n",
    "    D_factor = 1.25, \n",
    "    D=D, \n",
    "    L_factor = 1.5, \n",
    "    L=L, \n",
    "    S_factor=1.0, \n",
    "    S=S\n",
    ")\n",
    "print(f\"{D=}, {L=}, {S=}, {W=}\")\n",
    "print(f\"{fact_lc2=}\")\n",
    "print(f\"{fact_lc2a=}\")"
   ]
  },
  {
   "cell_type": "markdown",
   "id": "aacc339c-c13f-4103-8797-af2bb72a6031",
   "metadata": {},
   "source": [
    "## C. Vector math"
   ]
  },
  {
   "cell_type": "markdown",
   "id": "d15e7d20-2989-409f-9d9f-e4d53b30c419",
   "metadata": {},
   "source": [
    "Pros: \n",
    "* Fast, simple code\n",
    "* Flexible for variable number of load types\n",
    "    * As long as both vectors are the same length\n",
    "* Extensible\n",
    "\n",
    "Cons: \n",
    "* No \"position labels\"\n",
    "* Can be brittle\n",
    "    * If you update the number of load types, all inputs need to change"
   ]
  },
  {
   "cell_type": "code",
   "execution_count": 9,
   "id": "84393b8a-0c11-4b0c-8687-4daab16f48b7",
   "metadata": {},
   "outputs": [],
   "source": [
    "import numpy as np\n",
    "\n",
    "LC1 = [1.4, 0, 0, 0, 0]\n",
    "LC2 = [1.25, 1.5, 0, 0, 0]\n",
    "LC2a = [1.25, 1.5, 1.0, 0, 0]\n",
    "LC2b = [0.9, 1.5, 0, 0.4, 0]\n",
    "\n",
    "load = [D, L, S, W, 0]\n",
    "\n",
    "def factor_vec_load(load_vector: np.ndarray, factor_vector: np.ndarray) -> float:\n",
    "    \"\"\"\n",
    "    Returns the loads in 'load_vector' factored by 'factor_vector'.\n",
    "    Both arrays must be the same length.\n",
    "    \"\"\"\n",
    "    # return sum(load_vector * factor_vector)\n",
    "    return load_vector @ factor_vector"
   ]
  },
  {
   "cell_type": "code",
   "execution_count": 10,
   "id": "a16001b7-f418-47be-9d4b-0073b483dd3b",
   "metadata": {},
   "outputs": [
    {
     "data": {
      "text/html": [
       "<pre style=\"white-space:pre;overflow-x:auto;line-height:normal;font-family:Menlo,'DejaVu Sans Mono',consolas,'Courier New',monospace\"><span style=\"color: #808000; text-decoration-color: #808000\">load</span>=<span style=\"color: #800080; text-decoration-color: #800080; font-weight: bold\">array</span><span style=\"font-weight: bold\">([</span><span style=\"color: #008080; text-decoration-color: #008080; font-weight: bold\">50</span>, <span style=\"color: #008080; text-decoration-color: #008080; font-weight: bold\">90</span>, <span style=\"color: #008080; text-decoration-color: #008080; font-weight: bold\">15</span>, <span style=\"color: #008080; text-decoration-color: #008080; font-weight: bold\">10</span>,  <span style=\"color: #008080; text-decoration-color: #008080; font-weight: bold\">0</span><span style=\"font-weight: bold\">])</span>\n",
       "</pre>\n"
      ],
      "text/plain": [
       "\u001b[33mload\u001b[0m=\u001b[1;35marray\u001b[0m\u001b[1m(\u001b[0m\u001b[1m[\u001b[0m\u001b[1;36m50\u001b[0m, \u001b[1;36m90\u001b[0m, \u001b[1;36m15\u001b[0m, \u001b[1;36m10\u001b[0m,  \u001b[1;36m0\u001b[0m\u001b[1m]\u001b[0m\u001b[1m)\u001b[0m\n"
      ]
     },
     "metadata": {},
     "output_type": "display_data"
    },
    {
     "data": {
      "text/html": [
       "<pre style=\"white-space:pre;overflow-x:auto;line-height:normal;font-family:Menlo,'DejaVu Sans Mono',consolas,'Courier New',monospace\"><span style=\"color: #808000; text-decoration-color: #808000\">fact_lc2</span>=<span style=\"color: #008080; text-decoration-color: #008080; font-weight: bold\">197.5</span>\n",
       "</pre>\n"
      ],
      "text/plain": [
       "\u001b[33mfact_lc2\u001b[0m=\u001b[1;36m197\u001b[0m\u001b[1;36m.5\u001b[0m\n"
      ]
     },
     "metadata": {},
     "output_type": "display_data"
    },
    {
     "data": {
      "text/html": [
       "<pre style=\"white-space:pre;overflow-x:auto;line-height:normal;font-family:Menlo,'DejaVu Sans Mono',consolas,'Courier New',monospace\"><span style=\"color: #808000; text-decoration-color: #808000\">fact_lc2a</span>=<span style=\"color: #008080; text-decoration-color: #008080; font-weight: bold\">212.5</span>\n",
       "</pre>\n"
      ],
      "text/plain": [
       "\u001b[33mfact_lc2a\u001b[0m=\u001b[1;36m212\u001b[0m\u001b[1;36m.5\u001b[0m\n"
      ]
     },
     "metadata": {},
     "output_type": "display_data"
    }
   ],
   "source": [
    "load = np.array(load)\n",
    "\n",
    "fact_lc2 = factor_vec_load(np.array(load), np.array(LC2))\n",
    "fact_lc2a = factor_vec_load(np.array(load), np.array(LC2a))\n",
    "\n",
    "print(f\"{load=}\")\n",
    "print(f\"{fact_lc2=}\")\n",
    "print(f\"{fact_lc2a=}\")"
   ]
  },
  {
   "cell_type": "markdown",
   "id": "d0d858e7-4225-450a-ab6c-872ad27241f9",
   "metadata": {},
   "source": [
    "## 4. Storing Load Combinations 📚"
   ]
  },
  {
   "cell_type": "markdown",
   "id": "a549bd23-6437-4875-87f6-fe7298a29a7c",
   "metadata": {},
   "source": [
    "Choose one of two datatypes:\n",
    "\n",
    "1. `dict`\n",
    "2. `list` and `np.array`"
   ]
  },
  {
   "cell_type": "markdown",
   "id": "9333235b-b628-4d1b-8450-1559b68a4131",
   "metadata": {},
   "source": [
    "### `dict`\n",
    "\n",
    "**Pros:**\n",
    "* Key, value pairs make it easy to understand the data, e.g. `{\"D\": 12.3, \"L\": 4.8}`\n",
    "* Do not have to fill in loads that are `0.0`\n",
    "\n",
    "**Cons:**\n",
    "* No vector math available\n",
    "    * Must loop to add/sub values\n",
    "    \n",
    "### `np.array`\n",
    "\n",
    "**Pros:**\n",
    "* Fast and simple vector math\n",
    "\n",
    "**Cons:**\n",
    "* No labels on data, e.g. `[12.3, 4.8, 0., 0., 0.]`\n",
    "* Fixed length vectors require empty values, i.e. `0.0`"
   ]
  },
  {
   "cell_type": "markdown",
   "id": "02c4899c-b8bd-4507-8a5e-9b01b7691fa5",
   "metadata": {},
   "source": [
    "### Factor Dictionaries 📔\n",
    "\n",
    "```json\n",
    "{\n",
    "    \"LC1\": {\n",
    "        \"DL_factor\": 1.4\n",
    "    },\n",
    "    \"LC2\": {\n",
    "        \"DL_factor\": 1.25,\n",
    "        \"LL_factor\": 1.5\n",
    "    },\n",
    "    \"LC2a\": {\n",
    "        \"DL_factor\": 0.9,\n",
    "        \"LL_factor\": 1.5\n",
    "    },\n",
    "    \"LC2b\": {\n",
    "        \"DL_factor\": 1.25,\n",
    "        \"LL_factor\": 1.5,\n",
    "        \"SL_factor\": 1.0\n",
    "    },\n",
    "    \"LC2c\": {\n",
    "        \"DL_factor\": 1.25,\n",
    "        \"LL_factor\": 1.5,\n",
    "        \"WL_factor\": 1.0\n",
    "    },\n",
    "    \"LC2d\": {\n",
    "        \"DL_factor\": 0.9,\n",
    "        \"LL_factor\": 1.5,\n",
    "        \"WL_factor\": 0.4\n",
    "    }\n",
    "}\n",
    "```"
   ]
  },
  {
   "cell_type": "code",
   "execution_count": 11,
   "id": "9fe3d80e-ede5-4ab7-9937-334b34efc489",
   "metadata": {},
   "outputs": [
    {
     "data": {
      "text/html": [
       "<pre style=\"white-space:pre;overflow-x:auto;line-height:normal;font-family:Menlo,'DejaVu Sans Mono',consolas,'Courier New',monospace\"><span style=\"font-weight: bold\">{</span>\n",
       "    <span style=\"color: #008000; text-decoration-color: #008000\">'LC1'</span>: <span style=\"font-weight: bold\">{</span><span style=\"color: #008000; text-decoration-color: #008000\">'D_factor'</span>: <span style=\"color: #008080; text-decoration-color: #008080; font-weight: bold\">1.4</span><span style=\"font-weight: bold\">}</span>,\n",
       "    <span style=\"color: #008000; text-decoration-color: #008000\">'LC2'</span>: <span style=\"font-weight: bold\">{</span><span style=\"color: #008000; text-decoration-color: #008000\">'D_factor'</span>: <span style=\"color: #008080; text-decoration-color: #008080; font-weight: bold\">1.25</span>, <span style=\"color: #008000; text-decoration-color: #008000\">'L_factor'</span>: <span style=\"color: #008080; text-decoration-color: #008080; font-weight: bold\">1.5</span><span style=\"font-weight: bold\">}</span>,\n",
       "    <span style=\"color: #008000; text-decoration-color: #008000\">'LC2a'</span>: <span style=\"font-weight: bold\">{</span><span style=\"color: #008000; text-decoration-color: #008000\">'D_factor'</span>: <span style=\"color: #008080; text-decoration-color: #008080; font-weight: bold\">0.9</span>, <span style=\"color: #008000; text-decoration-color: #008000\">'L_factor'</span>: <span style=\"color: #008080; text-decoration-color: #008080; font-weight: bold\">1.5</span><span style=\"font-weight: bold\">}</span>,\n",
       "    <span style=\"color: #008000; text-decoration-color: #008000\">'LC2b'</span>: <span style=\"font-weight: bold\">{</span><span style=\"color: #008000; text-decoration-color: #008000\">'D_factor'</span>: <span style=\"color: #008080; text-decoration-color: #008080; font-weight: bold\">1.25</span>, <span style=\"color: #008000; text-decoration-color: #008000\">'L_factor'</span>: <span style=\"color: #008080; text-decoration-color: #008080; font-weight: bold\">1.5</span>, <span style=\"color: #008000; text-decoration-color: #008000\">'S_factor'</span>: <span style=\"color: #008080; text-decoration-color: #008080; font-weight: bold\">1.0</span><span style=\"font-weight: bold\">}</span>,\n",
       "    <span style=\"color: #008000; text-decoration-color: #008000\">'LC2c'</span>: <span style=\"font-weight: bold\">{</span><span style=\"color: #008000; text-decoration-color: #008000\">'D_factor'</span>: <span style=\"color: #008080; text-decoration-color: #008080; font-weight: bold\">1.25</span>, <span style=\"color: #008000; text-decoration-color: #008000\">'L_factor'</span>: <span style=\"color: #008080; text-decoration-color: #008080; font-weight: bold\">1.5</span>, <span style=\"color: #008000; text-decoration-color: #008000\">'W_factor'</span>: <span style=\"color: #008080; text-decoration-color: #008080; font-weight: bold\">1.0</span><span style=\"font-weight: bold\">}</span>,\n",
       "    <span style=\"color: #008000; text-decoration-color: #008000\">'LC2d'</span>: <span style=\"font-weight: bold\">{</span><span style=\"color: #008000; text-decoration-color: #008000\">'D_factor'</span>: <span style=\"color: #008080; text-decoration-color: #008080; font-weight: bold\">0.9</span>, <span style=\"color: #008000; text-decoration-color: #008000\">'L_factor'</span>: <span style=\"color: #008080; text-decoration-color: #008080; font-weight: bold\">1.5</span>, <span style=\"color: #008000; text-decoration-color: #008000\">'W_factor'</span>: <span style=\"color: #008080; text-decoration-color: #008080; font-weight: bold\">0.4</span><span style=\"font-weight: bold\">}</span>\n",
       "<span style=\"font-weight: bold\">}</span>\n",
       "</pre>\n"
      ],
      "text/plain": [
       "\u001b[1m{\u001b[0m\n",
       "    \u001b[32m'LC1'\u001b[0m: \u001b[1m{\u001b[0m\u001b[32m'D_factor'\u001b[0m: \u001b[1;36m1.4\u001b[0m\u001b[1m}\u001b[0m,\n",
       "    \u001b[32m'LC2'\u001b[0m: \u001b[1m{\u001b[0m\u001b[32m'D_factor'\u001b[0m: \u001b[1;36m1.25\u001b[0m, \u001b[32m'L_factor'\u001b[0m: \u001b[1;36m1.5\u001b[0m\u001b[1m}\u001b[0m,\n",
       "    \u001b[32m'LC2a'\u001b[0m: \u001b[1m{\u001b[0m\u001b[32m'D_factor'\u001b[0m: \u001b[1;36m0.9\u001b[0m, \u001b[32m'L_factor'\u001b[0m: \u001b[1;36m1.5\u001b[0m\u001b[1m}\u001b[0m,\n",
       "    \u001b[32m'LC2b'\u001b[0m: \u001b[1m{\u001b[0m\u001b[32m'D_factor'\u001b[0m: \u001b[1;36m1.25\u001b[0m, \u001b[32m'L_factor'\u001b[0m: \u001b[1;36m1.5\u001b[0m, \u001b[32m'S_factor'\u001b[0m: \u001b[1;36m1.0\u001b[0m\u001b[1m}\u001b[0m,\n",
       "    \u001b[32m'LC2c'\u001b[0m: \u001b[1m{\u001b[0m\u001b[32m'D_factor'\u001b[0m: \u001b[1;36m1.25\u001b[0m, \u001b[32m'L_factor'\u001b[0m: \u001b[1;36m1.5\u001b[0m, \u001b[32m'W_factor'\u001b[0m: \u001b[1;36m1.0\u001b[0m\u001b[1m}\u001b[0m,\n",
       "    \u001b[32m'LC2d'\u001b[0m: \u001b[1m{\u001b[0m\u001b[32m'D_factor'\u001b[0m: \u001b[1;36m0.9\u001b[0m, \u001b[32m'L_factor'\u001b[0m: \u001b[1;36m1.5\u001b[0m, \u001b[32m'W_factor'\u001b[0m: \u001b[1;36m0.4\u001b[0m\u001b[1m}\u001b[0m\n",
       "\u001b[1m}\u001b[0m\n"
      ]
     },
     "metadata": {},
     "output_type": "display_data"
    }
   ],
   "source": [
    "import json\n",
    "\n",
    "with open(\"NBCC_dict.json\", 'r') as json_file:\n",
    "    nbcc_dict = json.load(json_file)\n",
    "\n",
    "print(nbcc_dict)"
   ]
  },
  {
   "cell_type": "code",
   "execution_count": 12,
   "id": "5ce50026-0877-407f-8776-bd387bc48255",
   "metadata": {},
   "outputs": [
    {
     "data": {
      "text/html": [
       "<pre style=\"white-space:pre;overflow-x:auto;line-height:normal;font-family:Menlo,'DejaVu Sans Mono',consolas,'Courier New',monospace\"><span style=\"color: #800080; text-decoration-color: #800080; font-weight: bold\">factor_loads</span><span style=\"font-weight: bold\">(</span><span style=\"color: #808000; text-decoration-color: #808000\">D</span>=<span style=\"color: #008080; text-decoration-color: #008080; font-weight: bold\">2.4</span>, <span style=\"color: #808000; text-decoration-color: #808000\">L</span>=<span style=\"color: #008080; text-decoration-color: #008080; font-weight: bold\">0.9</span>, <span style=\"color: #808000; text-decoration-color: #808000\">S</span>=<span style=\"color: #008080; text-decoration-color: #008080; font-weight: bold\">3.6</span>, **nbcc_dict<span style=\"font-weight: bold\">[</span><span style=\"color: #008000; text-decoration-color: #008000\">\"LC2a\"</span><span style=\"font-weight: bold\">])</span>=<span style=\"color: #008080; text-decoration-color: #008080; font-weight: bold\">3.5100000000000002</span>\n",
       "</pre>\n"
      ],
      "text/plain": [
       "\u001b[1;35mfactor_loads\u001b[0m\u001b[1m(\u001b[0m\u001b[33mD\u001b[0m=\u001b[1;36m2\u001b[0m\u001b[1;36m.4\u001b[0m, \u001b[33mL\u001b[0m=\u001b[1;36m0\u001b[0m\u001b[1;36m.9\u001b[0m, \u001b[33mS\u001b[0m=\u001b[1;36m3\u001b[0m\u001b[1;36m.6\u001b[0m, **nbcc_dict\u001b[1m[\u001b[0m\u001b[32m\"LC2a\"\u001b[0m\u001b[1m]\u001b[0m\u001b[1m)\u001b[0m=\u001b[1;36m3.5100000000000002\u001b[0m\n"
      ]
     },
     "metadata": {},
     "output_type": "display_data"
    }
   ],
   "source": [
    "print(f'{factor_loads(D=2.4, L=0.9, S=3.6, **nbcc_dict[\"LC2a\"])=}')"
   ]
  },
  {
   "cell_type": "markdown",
   "id": "81d33dec-a446-4930-baac-338b4aa0fad4",
   "metadata": {},
   "source": [
    "### Vector dictionaries ➡➡➡➡➡\n",
    "\n",
    "```json\n",
    "{\n",
    "    \"LC1\": [1.4, 0, 0, 0, 0],\n",
    "    \"LC2\": [1.25, 1.5, 0, 0, 0],\n",
    "    \"LC2a\": [0.9, 1.5, 0, 0, 0],\n",
    "    \"LC2b\": [1.25, 1.5, 1.0, 0, 0],\n",
    "    \"LC2c\": [1.25, 1.5, 0, 0.4, 0],\n",
    "    \"LC2d\": [0.9, 1.5, 0.4, 0, 0],\n",
    "}\n",
    "```"
   ]
  },
  {
   "cell_type": "code",
   "execution_count": 13,
   "id": "1114a577-9e4c-4064-a79b-c27c60e601e1",
   "metadata": {},
   "outputs": [
    {
     "data": {
      "text/html": [
       "<pre style=\"white-space:pre;overflow-x:auto;line-height:normal;font-family:Menlo,'DejaVu Sans Mono',consolas,'Courier New',monospace\"><span style=\"font-weight: bold\">{</span>\n",
       "    <span style=\"color: #008000; text-decoration-color: #008000\">'LC1'</span>: <span style=\"font-weight: bold\">[</span><span style=\"color: #008080; text-decoration-color: #008080; font-weight: bold\">1.4</span>, <span style=\"color: #008080; text-decoration-color: #008080; font-weight: bold\">0</span>, <span style=\"color: #008080; text-decoration-color: #008080; font-weight: bold\">0</span>, <span style=\"color: #008080; text-decoration-color: #008080; font-weight: bold\">0</span>, <span style=\"color: #008080; text-decoration-color: #008080; font-weight: bold\">0</span><span style=\"font-weight: bold\">]</span>,\n",
       "    <span style=\"color: #008000; text-decoration-color: #008000\">'LC2'</span>: <span style=\"font-weight: bold\">[</span><span style=\"color: #008080; text-decoration-color: #008080; font-weight: bold\">1.25</span>, <span style=\"color: #008080; text-decoration-color: #008080; font-weight: bold\">1.5</span>, <span style=\"color: #008080; text-decoration-color: #008080; font-weight: bold\">0</span>, <span style=\"color: #008080; text-decoration-color: #008080; font-weight: bold\">0</span>, <span style=\"color: #008080; text-decoration-color: #008080; font-weight: bold\">0</span><span style=\"font-weight: bold\">]</span>,\n",
       "    <span style=\"color: #008000; text-decoration-color: #008000\">'LC2a'</span>: <span style=\"font-weight: bold\">[</span><span style=\"color: #008080; text-decoration-color: #008080; font-weight: bold\">0.9</span>, <span style=\"color: #008080; text-decoration-color: #008080; font-weight: bold\">1.5</span>, <span style=\"color: #008080; text-decoration-color: #008080; font-weight: bold\">0</span>, <span style=\"color: #008080; text-decoration-color: #008080; font-weight: bold\">0</span>, <span style=\"color: #008080; text-decoration-color: #008080; font-weight: bold\">0</span><span style=\"font-weight: bold\">]</span>,\n",
       "    <span style=\"color: #008000; text-decoration-color: #008000\">'LC2b'</span>: <span style=\"font-weight: bold\">[</span><span style=\"color: #008080; text-decoration-color: #008080; font-weight: bold\">1.25</span>, <span style=\"color: #008080; text-decoration-color: #008080; font-weight: bold\">1.5</span>, <span style=\"color: #008080; text-decoration-color: #008080; font-weight: bold\">1.0</span>, <span style=\"color: #008080; text-decoration-color: #008080; font-weight: bold\">0</span>, <span style=\"color: #008080; text-decoration-color: #008080; font-weight: bold\">0</span><span style=\"font-weight: bold\">]</span>,\n",
       "    <span style=\"color: #008000; text-decoration-color: #008000\">'LC2c'</span>: <span style=\"font-weight: bold\">[</span><span style=\"color: #008080; text-decoration-color: #008080; font-weight: bold\">1.25</span>, <span style=\"color: #008080; text-decoration-color: #008080; font-weight: bold\">1.5</span>, <span style=\"color: #008080; text-decoration-color: #008080; font-weight: bold\">0</span>, <span style=\"color: #008080; text-decoration-color: #008080; font-weight: bold\">0.4</span>, <span style=\"color: #008080; text-decoration-color: #008080; font-weight: bold\">0</span><span style=\"font-weight: bold\">]</span>,\n",
       "    <span style=\"color: #008000; text-decoration-color: #008000\">'LC2d'</span>: <span style=\"font-weight: bold\">[</span><span style=\"color: #008080; text-decoration-color: #008080; font-weight: bold\">0.9</span>, <span style=\"color: #008080; text-decoration-color: #008080; font-weight: bold\">1.5</span>, <span style=\"color: #008080; text-decoration-color: #008080; font-weight: bold\">0.4</span>, <span style=\"color: #008080; text-decoration-color: #008080; font-weight: bold\">0</span>, <span style=\"color: #008080; text-decoration-color: #008080; font-weight: bold\">0</span><span style=\"font-weight: bold\">]</span>,\n",
       "    <span style=\"color: #008000; text-decoration-color: #008000\">'LC3'</span>: <span style=\"font-weight: bold\">[</span><span style=\"color: #008080; text-decoration-color: #008080; font-weight: bold\">1.25</span>, <span style=\"color: #008080; text-decoration-color: #008080; font-weight: bold\">0.0</span>, <span style=\"color: #008080; text-decoration-color: #008080; font-weight: bold\">1.5</span>, <span style=\"color: #008080; text-decoration-color: #008080; font-weight: bold\">0</span>, <span style=\"color: #008080; text-decoration-color: #008080; font-weight: bold\">0</span><span style=\"font-weight: bold\">]</span>\n",
       "<span style=\"font-weight: bold\">}</span>\n",
       "</pre>\n"
      ],
      "text/plain": [
       "\u001b[1m{\u001b[0m\n",
       "    \u001b[32m'LC1'\u001b[0m: \u001b[1m[\u001b[0m\u001b[1;36m1.4\u001b[0m, \u001b[1;36m0\u001b[0m, \u001b[1;36m0\u001b[0m, \u001b[1;36m0\u001b[0m, \u001b[1;36m0\u001b[0m\u001b[1m]\u001b[0m,\n",
       "    \u001b[32m'LC2'\u001b[0m: \u001b[1m[\u001b[0m\u001b[1;36m1.25\u001b[0m, \u001b[1;36m1.5\u001b[0m, \u001b[1;36m0\u001b[0m, \u001b[1;36m0\u001b[0m, \u001b[1;36m0\u001b[0m\u001b[1m]\u001b[0m,\n",
       "    \u001b[32m'LC2a'\u001b[0m: \u001b[1m[\u001b[0m\u001b[1;36m0.9\u001b[0m, \u001b[1;36m1.5\u001b[0m, \u001b[1;36m0\u001b[0m, \u001b[1;36m0\u001b[0m, \u001b[1;36m0\u001b[0m\u001b[1m]\u001b[0m,\n",
       "    \u001b[32m'LC2b'\u001b[0m: \u001b[1m[\u001b[0m\u001b[1;36m1.25\u001b[0m, \u001b[1;36m1.5\u001b[0m, \u001b[1;36m1.0\u001b[0m, \u001b[1;36m0\u001b[0m, \u001b[1;36m0\u001b[0m\u001b[1m]\u001b[0m,\n",
       "    \u001b[32m'LC2c'\u001b[0m: \u001b[1m[\u001b[0m\u001b[1;36m1.25\u001b[0m, \u001b[1;36m1.5\u001b[0m, \u001b[1;36m0\u001b[0m, \u001b[1;36m0.4\u001b[0m, \u001b[1;36m0\u001b[0m\u001b[1m]\u001b[0m,\n",
       "    \u001b[32m'LC2d'\u001b[0m: \u001b[1m[\u001b[0m\u001b[1;36m0.9\u001b[0m, \u001b[1;36m1.5\u001b[0m, \u001b[1;36m0.4\u001b[0m, \u001b[1;36m0\u001b[0m, \u001b[1;36m0\u001b[0m\u001b[1m]\u001b[0m,\n",
       "    \u001b[32m'LC3'\u001b[0m: \u001b[1m[\u001b[0m\u001b[1;36m1.25\u001b[0m, \u001b[1;36m0.0\u001b[0m, \u001b[1;36m1.5\u001b[0m, \u001b[1;36m0\u001b[0m, \u001b[1;36m0\u001b[0m\u001b[1m]\u001b[0m\n",
       "\u001b[1m}\u001b[0m\n"
      ]
     },
     "metadata": {},
     "output_type": "display_data"
    }
   ],
   "source": [
    "with open('NBCC_vec.json', 'r') as json_file:\n",
    "    nbcc_vec = json.load(json_file)\n",
    "print(nbcc_vec)"
   ]
  },
  {
   "cell_type": "code",
   "execution_count": 14,
   "id": "724c8eee-fdd5-454e-abfb-3436ec75e436",
   "metadata": {},
   "outputs": [
    {
     "data": {
      "text/html": [
       "<pre style=\"white-space:pre;overflow-x:auto;line-height:normal;font-family:Menlo,'DejaVu Sans Mono',consolas,'Courier New',monospace\"><span style=\"color: #800080; text-decoration-color: #800080; font-weight: bold\">factor_vec_load</span><span style=\"font-weight: bold\">(</span><span style=\"color: #800080; text-decoration-color: #800080; font-weight: bold\">np.array</span><span style=\"font-weight: bold\">([</span><span style=\"color: #008080; text-decoration-color: #008080; font-weight: bold\">2.4</span>, <span style=\"color: #008080; text-decoration-color: #008080; font-weight: bold\">0.9</span>, <span style=\"color: #008080; text-decoration-color: #008080; font-weight: bold\">3.6</span>, <span style=\"color: #008080; text-decoration-color: #008080; font-weight: bold\">0</span>, <span style=\"color: #008080; text-decoration-color: #008080; font-weight: bold\">0</span><span style=\"font-weight: bold\">])</span>, <span style=\"color: #800080; text-decoration-color: #800080; font-weight: bold\">np.array</span><span style=\"font-weight: bold\">(</span>nbcc_vec<span style=\"font-weight: bold\">[</span><span style=\"color: #008000; text-decoration-color: #008000\">\"LC2a\"</span><span style=\"font-weight: bold\">]))</span>=<span style=\"color: #008080; text-decoration-color: #008080; font-weight: bold\">3.5100000000000002</span>\n",
       "</pre>\n"
      ],
      "text/plain": [
       "\u001b[1;35mfactor_vec_load\u001b[0m\u001b[1m(\u001b[0m\u001b[1;35mnp.array\u001b[0m\u001b[1m(\u001b[0m\u001b[1m[\u001b[0m\u001b[1;36m2.4\u001b[0m, \u001b[1;36m0.9\u001b[0m, \u001b[1;36m3.6\u001b[0m, \u001b[1;36m0\u001b[0m, \u001b[1;36m0\u001b[0m\u001b[1m]\u001b[0m\u001b[1m)\u001b[0m, \u001b[1;35mnp.array\u001b[0m\u001b[1m(\u001b[0mnbcc_vec\u001b[1m[\u001b[0m\u001b[32m\"LC2a\"\u001b[0m\u001b[1m]\u001b[0m\u001b[1m)\u001b[0m\u001b[1m)\u001b[0m=\u001b[1;36m3.5100000000000002\u001b[0m\n"
      ]
     },
     "metadata": {},
     "output_type": "display_data"
    }
   ],
   "source": [
    "print(f'{factor_vec_load(np.array([2.4, 0.9, 3.6, 0, 0]), np.array(nbcc_vec[\"LC2a\"]))=}')"
   ]
  },
  {
   "cell_type": "markdown",
   "id": "3bffe129-de34-416a-b7f6-642f57fc8699",
   "metadata": {},
   "source": [
    "## A third way! `typing.NamedTuple`\n",
    "\n",
    "Using `typing.NamedTuple` we can define a datatype that is both `dict`-ish and `array`-ish.\n",
    "\n",
    "* The NamedTuple has named fields (`dict`-like)\n",
    "* The named fields accept default values(`dict`-like)\n",
    "    * We can skip empty `0.0` values\n",
    "* The NamedTuple is `tuple`-like can can be converted directly to a `np.array`\n",
    "* The NamedTuple can also import values from a JSON file"
   ]
  },
  {
   "cell_type": "code",
   "execution_count": 15,
   "id": "f7952f1b-e276-4a04-a826-ff93a049a7d8",
   "metadata": {},
   "outputs": [],
   "source": [
    "from typing import NamedTuple, Any\n",
    "\n",
    "class Load(NamedTuple):\n",
    "    \"\"\"\n",
    "    A class to describe loads according to the Canadian National\n",
    "    Building Code (NBCC).\n",
    "    \n",
    "    The loads themselves can be of any type as long as they play\n",
    "    well with either scalar arithmetic operators or numpy array\n",
    "    operators.\n",
    "    \n",
    "    If array values are used, all arrays should be the same length.\n",
    "    \"\"\"\n",
    "    D: Any = 0.0\n",
    "    L: Any = 0.0\n",
    "    S: Any = 0.0\n",
    "    W: Any = 0.0\n",
    "    E: Any = 0.0"
   ]
  },
  {
   "cell_type": "code",
   "execution_count": 16,
   "id": "1553bc4d-5f65-494b-9e6b-c0acf06ddbf8",
   "metadata": {},
   "outputs": [],
   "source": [
    "## Examples\n",
    "\n",
    "L0 = Load() # An empty load\n",
    "L1 = Load(D=2.3, L=2.4, S=0.9) # Not all fields need be entered\n",
    "L2 = Load( # A load with array values\n",
    "    D=np.array([0.6, 1.1, 0.4]), \n",
    "    L=np.array([2.4, 3.6, 0.8]),\n",
    "    S=np.array([0.5, 1.2, 3.6]),\n",
    "    W=np.zeros(3),\n",
    "    E=np.zeros(3),\n",
    ")"
   ]
  },
  {
   "cell_type": "code",
   "execution_count": 17,
   "id": "57aba69f-bd26-48e5-8df4-e97dd27bb74d",
   "metadata": {},
   "outputs": [
    {
     "data": {
      "text/html": [
       "<pre style=\"white-space:pre;overflow-x:auto;line-height:normal;font-family:Menlo,'DejaVu Sans Mono',consolas,'Courier New',monospace\"><span style=\"color: #808000; text-decoration-color: #808000\">L0</span>=<span style=\"color: #800080; text-decoration-color: #800080; font-weight: bold\">Load</span><span style=\"font-weight: bold\">(</span><span style=\"color: #808000; text-decoration-color: #808000\">D</span>=<span style=\"color: #008080; text-decoration-color: #008080; font-weight: bold\">0.0</span>, <span style=\"color: #808000; text-decoration-color: #808000\">L</span>=<span style=\"color: #008080; text-decoration-color: #008080; font-weight: bold\">0.0</span>, <span style=\"color: #808000; text-decoration-color: #808000\">S</span>=<span style=\"color: #008080; text-decoration-color: #008080; font-weight: bold\">0.0</span>, <span style=\"color: #808000; text-decoration-color: #808000\">W</span>=<span style=\"color: #008080; text-decoration-color: #008080; font-weight: bold\">0.0</span>, <span style=\"color: #808000; text-decoration-color: #808000\">E</span>=<span style=\"color: #008080; text-decoration-color: #008080; font-weight: bold\">0.0</span><span style=\"font-weight: bold\">)</span>\n",
       "</pre>\n"
      ],
      "text/plain": [
       "\u001b[33mL0\u001b[0m=\u001b[1;35mLoad\u001b[0m\u001b[1m(\u001b[0m\u001b[33mD\u001b[0m=\u001b[1;36m0\u001b[0m\u001b[1;36m.0\u001b[0m, \u001b[33mL\u001b[0m=\u001b[1;36m0\u001b[0m\u001b[1;36m.0\u001b[0m, \u001b[33mS\u001b[0m=\u001b[1;36m0\u001b[0m\u001b[1;36m.0\u001b[0m, \u001b[33mW\u001b[0m=\u001b[1;36m0\u001b[0m\u001b[1;36m.0\u001b[0m, \u001b[33mE\u001b[0m=\u001b[1;36m0\u001b[0m\u001b[1;36m.0\u001b[0m\u001b[1m)\u001b[0m\n"
      ]
     },
     "metadata": {},
     "output_type": "display_data"
    },
    {
     "data": {
      "text/html": [
       "<pre style=\"white-space:pre;overflow-x:auto;line-height:normal;font-family:Menlo,'DejaVu Sans Mono',consolas,'Courier New',monospace\"><span style=\"color: #808000; text-decoration-color: #808000\">L1</span>=<span style=\"color: #800080; text-decoration-color: #800080; font-weight: bold\">Load</span><span style=\"font-weight: bold\">(</span><span style=\"color: #808000; text-decoration-color: #808000\">D</span>=<span style=\"color: #008080; text-decoration-color: #008080; font-weight: bold\">2.3</span>, <span style=\"color: #808000; text-decoration-color: #808000\">L</span>=<span style=\"color: #008080; text-decoration-color: #008080; font-weight: bold\">2.4</span>, <span style=\"color: #808000; text-decoration-color: #808000\">S</span>=<span style=\"color: #008080; text-decoration-color: #008080; font-weight: bold\">0.9</span>, <span style=\"color: #808000; text-decoration-color: #808000\">W</span>=<span style=\"color: #008080; text-decoration-color: #008080; font-weight: bold\">0.0</span>, <span style=\"color: #808000; text-decoration-color: #808000\">E</span>=<span style=\"color: #008080; text-decoration-color: #008080; font-weight: bold\">0.0</span><span style=\"font-weight: bold\">)</span>\n",
       "</pre>\n"
      ],
      "text/plain": [
       "\u001b[33mL1\u001b[0m=\u001b[1;35mLoad\u001b[0m\u001b[1m(\u001b[0m\u001b[33mD\u001b[0m=\u001b[1;36m2\u001b[0m\u001b[1;36m.3\u001b[0m, \u001b[33mL\u001b[0m=\u001b[1;36m2\u001b[0m\u001b[1;36m.4\u001b[0m, \u001b[33mS\u001b[0m=\u001b[1;36m0\u001b[0m\u001b[1;36m.9\u001b[0m, \u001b[33mW\u001b[0m=\u001b[1;36m0\u001b[0m\u001b[1;36m.0\u001b[0m, \u001b[33mE\u001b[0m=\u001b[1;36m0\u001b[0m\u001b[1;36m.0\u001b[0m\u001b[1m)\u001b[0m\n"
      ]
     },
     "metadata": {},
     "output_type": "display_data"
    },
    {
     "data": {
      "text/html": [
       "<pre style=\"white-space:pre;overflow-x:auto;line-height:normal;font-family:Menlo,'DejaVu Sans Mono',consolas,'Courier New',monospace\"><span style=\"color: #808000; text-decoration-color: #808000\">L2</span>=<span style=\"color: #800080; text-decoration-color: #800080; font-weight: bold\">Load</span><span style=\"font-weight: bold\">(</span><span style=\"color: #808000; text-decoration-color: #808000\">D</span>=<span style=\"color: #800080; text-decoration-color: #800080; font-weight: bold\">array</span><span style=\"font-weight: bold\">([</span><span style=\"color: #008080; text-decoration-color: #008080; font-weight: bold\">0.6</span>, <span style=\"color: #008080; text-decoration-color: #008080; font-weight: bold\">1.1</span>, <span style=\"color: #008080; text-decoration-color: #008080; font-weight: bold\">0.4</span><span style=\"font-weight: bold\">])</span>, <span style=\"color: #808000; text-decoration-color: #808000\">L</span>=<span style=\"color: #800080; text-decoration-color: #800080; font-weight: bold\">array</span><span style=\"font-weight: bold\">([</span><span style=\"color: #008080; text-decoration-color: #008080; font-weight: bold\">2.4</span>, <span style=\"color: #008080; text-decoration-color: #008080; font-weight: bold\">3.6</span>, <span style=\"color: #008080; text-decoration-color: #008080; font-weight: bold\">0.8</span><span style=\"font-weight: bold\">])</span>, <span style=\"color: #808000; text-decoration-color: #808000\">S</span>=<span style=\"color: #800080; text-decoration-color: #800080; font-weight: bold\">array</span><span style=\"font-weight: bold\">([</span><span style=\"color: #008080; text-decoration-color: #008080; font-weight: bold\">0.5</span>, <span style=\"color: #008080; text-decoration-color: #008080; font-weight: bold\">1.2</span>, <span style=\"color: #008080; text-decoration-color: #008080; font-weight: bold\">3.6</span><span style=\"font-weight: bold\">])</span>, <span style=\"color: #808000; text-decoration-color: #808000\">W</span>=<span style=\"color: #800080; text-decoration-color: #800080; font-weight: bold\">array</span><span style=\"font-weight: bold\">([</span><span style=\"color: #008080; text-decoration-color: #008080; font-weight: bold\">0</span>., <span style=\"color: #008080; text-decoration-color: #008080; font-weight: bold\">0</span>., <span style=\"color: #008080; text-decoration-color: #008080; font-weight: bold\">0</span>.<span style=\"font-weight: bold\">])</span>, \n",
       "<span style=\"color: #808000; text-decoration-color: #808000\">E</span>=<span style=\"color: #800080; text-decoration-color: #800080; font-weight: bold\">array</span><span style=\"font-weight: bold\">([</span><span style=\"color: #008080; text-decoration-color: #008080; font-weight: bold\">0</span>., <span style=\"color: #008080; text-decoration-color: #008080; font-weight: bold\">0</span>., <span style=\"color: #008080; text-decoration-color: #008080; font-weight: bold\">0</span>.<span style=\"font-weight: bold\">]))</span>\n",
       "</pre>\n"
      ],
      "text/plain": [
       "\u001b[33mL2\u001b[0m=\u001b[1;35mLoad\u001b[0m\u001b[1m(\u001b[0m\u001b[33mD\u001b[0m=\u001b[1;35marray\u001b[0m\u001b[1m(\u001b[0m\u001b[1m[\u001b[0m\u001b[1;36m0.6\u001b[0m, \u001b[1;36m1.1\u001b[0m, \u001b[1;36m0.4\u001b[0m\u001b[1m]\u001b[0m\u001b[1m)\u001b[0m, \u001b[33mL\u001b[0m=\u001b[1;35marray\u001b[0m\u001b[1m(\u001b[0m\u001b[1m[\u001b[0m\u001b[1;36m2.4\u001b[0m, \u001b[1;36m3.6\u001b[0m, \u001b[1;36m0.8\u001b[0m\u001b[1m]\u001b[0m\u001b[1m)\u001b[0m, \u001b[33mS\u001b[0m=\u001b[1;35marray\u001b[0m\u001b[1m(\u001b[0m\u001b[1m[\u001b[0m\u001b[1;36m0.5\u001b[0m, \u001b[1;36m1.2\u001b[0m, \u001b[1;36m3.6\u001b[0m\u001b[1m]\u001b[0m\u001b[1m)\u001b[0m, \u001b[33mW\u001b[0m=\u001b[1;35marray\u001b[0m\u001b[1m(\u001b[0m\u001b[1m[\u001b[0m\u001b[1;36m0\u001b[0m., \u001b[1;36m0\u001b[0m., \u001b[1;36m0\u001b[0m.\u001b[1m]\u001b[0m\u001b[1m)\u001b[0m, \n",
       "\u001b[33mE\u001b[0m=\u001b[1;35marray\u001b[0m\u001b[1m(\u001b[0m\u001b[1m[\u001b[0m\u001b[1;36m0\u001b[0m., \u001b[1;36m0\u001b[0m., \u001b[1;36m0\u001b[0m.\u001b[1m]\u001b[0m\u001b[1m)\u001b[0m\u001b[1m)\u001b[0m\n"
      ]
     },
     "metadata": {},
     "output_type": "display_data"
    }
   ],
   "source": [
    "print(f\"{L0=}\")\n",
    "print(f\"{L1=}\")\n",
    "print(f\"{L2=}\")"
   ]
  },
  {
   "cell_type": "code",
   "execution_count": 18,
   "id": "c6b542be-c333-4157-b4ae-411e24768a74",
   "metadata": {},
   "outputs": [
    {
     "data": {
      "text/plain": [
       "array([4.35 , 6.775, 1.7  ])"
      ]
     },
     "execution_count": 18,
     "metadata": {},
     "output_type": "execute_result"
    }
   ],
   "source": [
    "factor_loads(**L2._asdict(), **nbcc_dict[\"LC2\"])"
   ]
  },
  {
   "cell_type": "code",
   "execution_count": 19,
   "id": "c4c26895-fb8a-4939-9b96-50fb7a0de064",
   "metadata": {},
   "outputs": [
    {
     "data": {
      "text/plain": [
       "array([4.35 , 6.775, 1.7  ])"
      ]
     },
     "execution_count": 19,
     "metadata": {},
     "output_type": "execute_result"
    }
   ],
   "source": [
    "factor_vec_load(np.array(L2).T, np.array(nbcc_vec[\"LC2\"]))"
   ]
  },
  {
   "cell_type": "markdown",
   "id": "2dd7f282-5111-45a8-8584-91c23e819624",
   "metadata": {},
   "source": [
    "## 5. Load Aliases 🕵️‍♀️"
   ]
  },
  {
   "cell_type": "markdown",
   "id": "a729b31e-eea1-47a2-bc1f-8dac51a911ae",
   "metadata": {},
   "source": [
    "> Sometimes it can be nice to describe what the load is called instead of just \"dead load\". To use in calculations, we need to have an alias look-up., e.g. \"Asphalt topping\" `->` \"DL\""
   ]
  },
  {
   "cell_type": "markdown",
   "id": "de8c337f-d88c-42b7-ac3e-af0b450d0fc1",
   "metadata": {},
   "source": [
    "### Example\n",
    "\n",
    "Loads on a building might include:\n",
    "\n",
    "* Member self-weight (\"SW\")\n",
    "* Super-imposed dead load (\"SDL\")\n",
    "* We may want to use specific names for specific loads\n",
    "    * e.g. \"Planter soil\" instead of just \"live load\" even though it is a live load.\n",
    "\n",
    "```python\n",
    "load_categories_lookup = {\n",
    "    \"SW\": \"DL\",\n",
    "    \"SDL\": \"DL\",\n",
    "    \"Planter Soil\": \"LL\",\n",
    "    \"Snow\": \"SL\", \n",
    "    \"Rain\": \"SL\"\n",
    "}\n",
    "```"
   ]
  },
  {
   "cell_type": "code",
   "execution_count": 20,
   "id": "14332850-d3f4-4e76-9260-2c49d789bf77",
   "metadata": {},
   "outputs": [],
   "source": [
    "def alias_to_service_loads(alias_loads: dict, alias_lookup: dict) -> Load:\n",
    "    \"\"\"\n",
    "    Returns a dictionary of service loads (i.e. loads conforming to the\n",
    "    code categories of DL, LL, SL, etc.) obtained from the given loads\n",
    "    in 'alias_loads' correlated against the load types in 'alias_lookup'.\n",
    "    \n",
    "    If the load type in 'alias_loads' is not listed in 'alias_lookup', no \n",
    "    transformation takes place.\n",
    "    \"\"\"\n",
    "    service_loads = {}\n",
    "    for load_name, load_mag in alias_loads.items():\n",
    "        load_type = alias_lookup.get(load_name, load_name)\n",
    "        \n",
    "        if load_type in service_loads:\n",
    "            service_loads[load_type] = service_loads[load_type] + load_mag\n",
    "        else:\n",
    "            service_loads.update({load_type: load_mag})\n",
    "            \n",
    "    return Load(**service_loads)"
   ]
  },
  {
   "cell_type": "code",
   "execution_count": 21,
   "id": "58fa1b0d-7a2c-4d50-91d0-33dceae828e4",
   "metadata": {},
   "outputs": [],
   "source": [
    "alias_lookup = {\n",
    "    \"SW\": \"D\",\n",
    "    \"SDL\": \"D\",\n",
    "    \"Planter Soil\": \"L\",\n",
    "    \"Snow\": \"S\", \n",
    "    \"Rain\": \"S\"\n",
    "}\n",
    "\n",
    "loads = {\"SW\": 14, \"SDL\": 30, \"Planter Soil\": 180, \"Snow\": 30, \"Rain\": 2}\n",
    "\n",
    "service_loads = alias_to_service_loads(\n",
    "    alias_loads=loads, \n",
    "    alias_lookup=alias_lookup)"
   ]
  },
  {
   "cell_type": "code",
   "execution_count": 22,
   "id": "a18a390e-04f3-47e4-b312-4a55121e67d0",
   "metadata": {
    "tags": []
   },
   "outputs": [
    {
     "data": {
      "text/html": [
       "<pre style=\"white-space:pre;overflow-x:auto;line-height:normal;font-family:Menlo,'DejaVu Sans Mono',consolas,'Courier New',monospace\"><span style=\"color: #808000; text-decoration-color: #808000\">loads</span>=<span style=\"font-weight: bold\">{</span><span style=\"color: #008000; text-decoration-color: #008000\">'SW'</span>: <span style=\"color: #008080; text-decoration-color: #008080; font-weight: bold\">14</span>, <span style=\"color: #008000; text-decoration-color: #008000\">'SDL'</span>: <span style=\"color: #008080; text-decoration-color: #008080; font-weight: bold\">30</span>, <span style=\"color: #008000; text-decoration-color: #008000\">'Planter Soil'</span>: <span style=\"color: #008080; text-decoration-color: #008080; font-weight: bold\">180</span>, <span style=\"color: #008000; text-decoration-color: #008000\">'Snow'</span>: <span style=\"color: #008080; text-decoration-color: #008080; font-weight: bold\">30</span>, <span style=\"color: #008000; text-decoration-color: #008000\">'Rain'</span>: <span style=\"color: #008080; text-decoration-color: #008080; font-weight: bold\">2</span><span style=\"font-weight: bold\">}</span>\n",
       "</pre>\n"
      ],
      "text/plain": [
       "\u001b[33mloads\u001b[0m=\u001b[1m{\u001b[0m\u001b[32m'SW'\u001b[0m: \u001b[1;36m14\u001b[0m, \u001b[32m'SDL'\u001b[0m: \u001b[1;36m30\u001b[0m, \u001b[32m'Planter Soil'\u001b[0m: \u001b[1;36m180\u001b[0m, \u001b[32m'Snow'\u001b[0m: \u001b[1;36m30\u001b[0m, \u001b[32m'Rain'\u001b[0m: \u001b[1;36m2\u001b[0m\u001b[1m}\u001b[0m\n"
      ]
     },
     "metadata": {},
     "output_type": "display_data"
    },
    {
     "data": {
      "text/html": [
       "<pre style=\"white-space:pre;overflow-x:auto;line-height:normal;font-family:Menlo,'DejaVu Sans Mono',consolas,'Courier New',monospace\"><span style=\"color: #808000; text-decoration-color: #808000\">service_loads</span>=<span style=\"color: #800080; text-decoration-color: #800080; font-weight: bold\">Load</span><span style=\"font-weight: bold\">(</span><span style=\"color: #808000; text-decoration-color: #808000\">D</span>=<span style=\"color: #008080; text-decoration-color: #008080; font-weight: bold\">44</span>, <span style=\"color: #808000; text-decoration-color: #808000\">L</span>=<span style=\"color: #008080; text-decoration-color: #008080; font-weight: bold\">180</span>, <span style=\"color: #808000; text-decoration-color: #808000\">S</span>=<span style=\"color: #008080; text-decoration-color: #008080; font-weight: bold\">32</span>, <span style=\"color: #808000; text-decoration-color: #808000\">W</span>=<span style=\"color: #008080; text-decoration-color: #008080; font-weight: bold\">0.0</span>, <span style=\"color: #808000; text-decoration-color: #808000\">E</span>=<span style=\"color: #008080; text-decoration-color: #008080; font-weight: bold\">0.0</span><span style=\"font-weight: bold\">)</span>\n",
       "</pre>\n"
      ],
      "text/plain": [
       "\u001b[33mservice_loads\u001b[0m=\u001b[1;35mLoad\u001b[0m\u001b[1m(\u001b[0m\u001b[33mD\u001b[0m=\u001b[1;36m44\u001b[0m, \u001b[33mL\u001b[0m=\u001b[1;36m180\u001b[0m, \u001b[33mS\u001b[0m=\u001b[1;36m32\u001b[0m, \u001b[33mW\u001b[0m=\u001b[1;36m0\u001b[0m\u001b[1;36m.0\u001b[0m, \u001b[33mE\u001b[0m=\u001b[1;36m0\u001b[0m\u001b[1;36m.0\u001b[0m\u001b[1m)\u001b[0m\n"
      ]
     },
     "metadata": {},
     "output_type": "display_data"
    }
   ],
   "source": [
    "print(f\"{loads=}\")\n",
    "print(f\"{service_loads=}\")"
   ]
  },
  {
   "cell_type": "markdown",
   "id": "bd8ea0a5-76f8-499e-8d4c-a6084903ca1c",
   "metadata": {},
   "source": [
    "## 6. Find maximum and minimum factored loads"
   ]
  },
  {
   "cell_type": "markdown",
   "id": "a83f73b1-543b-4115-9a49-e9f9b0762f64",
   "metadata": {},
   "source": [
    "**Two approaches:**\n",
    "1. Return just the max/min load\n",
    "2. Return the max/min load AND which load case produced it (traceability)\n",
    "\n",
    "**Additionally!**\n",
    "\n",
    "It would be good if our \"max\" and \"min\" functions could take either _scalar_ or _array_ input.\n",
    "\n",
    "**We need a Numpy function for this.**"
   ]
  },
  {
   "cell_type": "markdown",
   "id": "0dae0a5b-090e-4595-8471-adbb961c4e38",
   "metadata": {},
   "source": [
    "### Why Numpy?\n",
    "\n",
    "* If we want element-wise maximum between arrays, we cannot use (`<`, `>`, etc.)\n",
    "* Need to use `np.maximum`\n",
    "* `np.maximum` works on both scalar and array inputs!"
   ]
  },
  {
   "cell_type": "markdown",
   "id": "3b88c1c7-0c18-49fc-9c0d-17f33ba68550",
   "metadata": {},
   "source": [
    "### 1. Return Max/Min Loads"
   ]
  },
  {
   "cell_type": "code",
   "execution_count": 23,
   "id": "cb67a40c-590f-4a63-af41-b57b5c1cbcec",
   "metadata": {},
   "outputs": [],
   "source": [
    "def factored_max(load: Load, load_combinations: dict) -> Any:\n",
    "    \"\"\"\n",
    "    Returns a value representing the maximum factored load of 'load' calculated\n",
    "    from all of the load combinations in 'load_combinations'.\n",
    "    \n",
    "    If 'load' contains scalar values, the maximum factored load is a scalar maximum.\n",
    "    If 'load' contains array values, the maximum factored load is the envelope of\n",
    "    maximum values across the input arrays in 'load'.\n",
    "    \"\"\"\n",
    "    fl = float('-inf') # acc\n",
    "    for load_combination, load_factors in load_combinations.items():\n",
    "        current_fl = factor_vec_load(\n",
    "            np.array(load).T, \n",
    "            np.array(load_factors)\n",
    "        )\n",
    "        fl = np.maximum(current_fl, fl)\n",
    "    return fl"
   ]
  },
  {
   "cell_type": "code",
   "execution_count": 24,
   "id": "5fdf1dfa-272b-49b9-95a8-2a1dcdfb308c",
   "metadata": {},
   "outputs": [],
   "source": [
    "def factored_min(load: Load, load_combinations: dict) -> Any:\n",
    "    \"\"\"\n",
    "    Returns a value representing the minimum factored load of 'load' calculated\n",
    "    from all of the load combinations in 'load_combinations'.\n",
    "    \n",
    "    If 'load' contains scalar values, the minimum factored load is a scalar minimum.\n",
    "    If 'load' contains array values, the minimum factored load is the envelope of\n",
    "    minimum values across the input arrays in 'load'.\n",
    "    \"\"\"\n",
    "    fl = float('inf') # acc\n",
    "    for load_combination, load_factors in load_combinations.items():\n",
    "        current_fl = factor_vec_load(\n",
    "            np.array(load).T, \n",
    "            np.array(load_factors)\n",
    "        )\n",
    "        fl = np.minimum(current_fl, fl)\n",
    "    return fl"
   ]
  },
  {
   "cell_type": "code",
   "execution_count": 25,
   "id": "14a24a16-6b55-4d52-8d6b-2dc89db9cd29",
   "metadata": {},
   "outputs": [
    {
     "data": {
      "text/html": [
       "<pre style=\"white-space:pre;overflow-x:auto;line-height:normal;font-family:Menlo,'DejaVu Sans Mono',consolas,'Courier New',monospace\"><span style=\"color: #808000; text-decoration-color: #808000\">max_factored</span>=<span style=\"color: #800080; text-decoration-color: #800080; font-weight: bold\">array</span><span style=\"font-weight: bold\">([</span><span style=\"color: #008080; text-decoration-color: #008080; font-weight: bold\">4.85</span> , <span style=\"color: #008080; text-decoration-color: #008080; font-weight: bold\">7.975</span>, <span style=\"color: #008080; text-decoration-color: #008080; font-weight: bold\">5.9</span>  <span style=\"font-weight: bold\">])</span>\n",
       "</pre>\n"
      ],
      "text/plain": [
       "\u001b[33mmax_factored\u001b[0m=\u001b[1;35marray\u001b[0m\u001b[1m(\u001b[0m\u001b[1m[\u001b[0m\u001b[1;36m4.85\u001b[0m , \u001b[1;36m7.975\u001b[0m, \u001b[1;36m5.9\u001b[0m  \u001b[1m]\u001b[0m\u001b[1m)\u001b[0m\n"
      ]
     },
     "metadata": {},
     "output_type": "display_data"
    },
    {
     "data": {
      "text/html": [
       "<pre style=\"white-space:pre;overflow-x:auto;line-height:normal;font-family:Menlo,'DejaVu Sans Mono',consolas,'Courier New',monospace\"><span style=\"color: #808000; text-decoration-color: #808000\">min_factored</span>=<span style=\"color: #800080; text-decoration-color: #800080; font-weight: bold\">array</span><span style=\"font-weight: bold\">([</span><span style=\"color: #008080; text-decoration-color: #008080; font-weight: bold\">0.84</span>, <span style=\"color: #008080; text-decoration-color: #008080; font-weight: bold\">1.54</span>, <span style=\"color: #008080; text-decoration-color: #008080; font-weight: bold\">0.56</span><span style=\"font-weight: bold\">])</span>\n",
       "</pre>\n"
      ],
      "text/plain": [
       "\u001b[33mmin_factored\u001b[0m=\u001b[1;35marray\u001b[0m\u001b[1m(\u001b[0m\u001b[1m[\u001b[0m\u001b[1;36m0.84\u001b[0m, \u001b[1;36m1.54\u001b[0m, \u001b[1;36m0.56\u001b[0m\u001b[1m]\u001b[0m\u001b[1m)\u001b[0m\n"
      ]
     },
     "metadata": {},
     "output_type": "display_data"
    }
   ],
   "source": [
    "max_factored = factored_max(L2, nbcc_vec)\n",
    "print(f\"{max_factored=}\")\n",
    "\n",
    "min_factored = factored_min(L2, nbcc_vec)\n",
    "print(f\"{min_factored=}\")"
   ]
  },
  {
   "cell_type": "markdown",
   "id": "e6f78c85-51c3-4c52-b3fe-cdf8b5ae579a",
   "metadata": {},
   "source": [
    "## 2. Return Max/Min governing combination\n",
    "\n",
    "**Two steps:**\n",
    "\n",
    "1. Build a vector/matrix of the load combinations\n",
    "2. Get the index of each extrema"
   ]
  },
  {
   "cell_type": "code",
   "execution_count": 26,
   "id": "e10c7249-fa9a-4932-8289-4aa749d2ed4c",
   "metadata": {},
   "outputs": [],
   "source": [
    "def get_factored_matrix(load: Load, load_combinations: dict) -> np.ndarray:\n",
    "    \"\"\"\n",
    "    Returns either a 1D or 2D array representing the loads in 'load' being\n",
    "    factored by 'load_combinations'. Each factored load combination is a\n",
    "    row in the resulting matrix.\n",
    "    \n",
    "    If the values in 'load' are scalars, then a 1D matrix is returned\n",
    "    If the values in 'load' are 1D arrays, then a 2D matrix is returned\n",
    "    \"\"\"\n",
    "    acc = None\n",
    "    for idx, (load_combination, load_factors) in enumerate(\n",
    "        load_combinations.items()\n",
    "    ):\n",
    "        current_fact = factor_vec_load(\n",
    "            np.array(load).T, np.array(load_factors)\n",
    "        )\n",
    "        if idx == 0: acc = np.array([current_fact])\n",
    "        else: acc = np.concatenate([acc, [current_fact]])\n",
    "    return acc"
   ]
  },
  {
   "cell_type": "code",
   "execution_count": 27,
   "id": "00444498-f41a-4ae5-a297-fe5b878ec33e",
   "metadata": {},
   "outputs": [],
   "source": [
    "def factored_max_trace(load: Load, load_combinations: dict) -> Any:\n",
    "    \"\"\"\n",
    "    Returns a value representing the maximum factored load of 'load' calculated\n",
    "    from all of the load combinations in 'load_combinations'.\n",
    "    \n",
    "    If 'load' contains scalar values, the maximum factored load is a scalar maximum.\n",
    "    If 'load' contains array values, the maximum factored load is the envelope of\n",
    "    maximum values across the input arrays in 'load'.\n",
    "    \"\"\"\n",
    "    factored_matrix = get_factored_matrix(load, load_combinations)\n",
    "    max_trace = np.argmax(factored_matrix, axis=0)\n",
    "    return max_trace\n",
    "\n",
    "\n",
    "def factored_min_trace(load: Load, load_combinations: dict) -> Any:\n",
    "    \"\"\"\n",
    "    Returns a value representing the minimum factored load of 'load' calculated\n",
    "    from all of the load combinations in 'load_combinations'.\n",
    "    \n",
    "    If 'load' contains scalar values, the minimum factored load is a scalar minimum.\n",
    "    If 'load' contains array values, the minimum factored load is the envelope of\n",
    "    minimum values across the input arrays in 'load'.\n",
    "    \"\"\"\n",
    "    factored_matrix = get_factored_matrix(load, load_combinations)\n",
    "    min_trace = np.argmin(factored_matrix, axis=0)\n",
    "    return min_trace"
   ]
  },
  {
   "cell_type": "code",
   "execution_count": 28,
   "id": "1c4d5fdf-36e9-4c23-af82-a9a414095e1a",
   "metadata": {},
   "outputs": [
    {
     "data": {
      "text/html": [
       "<pre style=\"white-space:pre;overflow-x:auto;line-height:normal;font-family:Menlo,'DejaVu Sans Mono',consolas,'Courier New',monospace\"><span style=\"color: #800080; text-decoration-color: #800080; font-weight: bold\">factored_max_trace</span><span style=\"font-weight: bold\">(</span>L2, nbcc_vec<span style=\"font-weight: bold\">)</span>=<span style=\"color: #800080; text-decoration-color: #800080; font-weight: bold\">array</span><span style=\"font-weight: bold\">([</span><span style=\"color: #008080; text-decoration-color: #008080; font-weight: bold\">3</span>, <span style=\"color: #008080; text-decoration-color: #008080; font-weight: bold\">3</span>, <span style=\"color: #008080; text-decoration-color: #008080; font-weight: bold\">6</span><span style=\"font-weight: bold\">]</span>, <span style=\"color: #808000; text-decoration-color: #808000\">dtype</span>=<span style=\"color: #800080; text-decoration-color: #800080\">int64</span><span style=\"font-weight: bold\">)</span>\n",
       "</pre>\n"
      ],
      "text/plain": [
       "\u001b[1;35mfactored_max_trace\u001b[0m\u001b[1m(\u001b[0mL2, nbcc_vec\u001b[1m)\u001b[0m=\u001b[1;35marray\u001b[0m\u001b[1m(\u001b[0m\u001b[1m[\u001b[0m\u001b[1;36m3\u001b[0m, \u001b[1;36m3\u001b[0m, \u001b[1;36m6\u001b[0m\u001b[1m]\u001b[0m, \u001b[33mdtype\u001b[0m=\u001b[35mint64\u001b[0m\u001b[1m)\u001b[0m\n"
      ]
     },
     "metadata": {},
     "output_type": "display_data"
    },
    {
     "data": {
      "text/html": [
       "<pre style=\"white-space:pre;overflow-x:auto;line-height:normal;font-family:Menlo,'DejaVu Sans Mono',consolas,'Courier New',monospace\"><span style=\"color: #800080; text-decoration-color: #800080; font-weight: bold\">factored_min_trace</span><span style=\"font-weight: bold\">(</span>L2, nbcc_vec<span style=\"font-weight: bold\">)</span>=<span style=\"color: #800080; text-decoration-color: #800080; font-weight: bold\">array</span><span style=\"font-weight: bold\">([</span><span style=\"color: #008080; text-decoration-color: #008080; font-weight: bold\">0</span>, <span style=\"color: #008080; text-decoration-color: #008080; font-weight: bold\">0</span>, <span style=\"color: #008080; text-decoration-color: #008080; font-weight: bold\">0</span><span style=\"font-weight: bold\">]</span>, <span style=\"color: #808000; text-decoration-color: #808000\">dtype</span>=<span style=\"color: #800080; text-decoration-color: #800080\">int64</span><span style=\"font-weight: bold\">)</span>\n",
       "</pre>\n"
      ],
      "text/plain": [
       "\u001b[1;35mfactored_min_trace\u001b[0m\u001b[1m(\u001b[0mL2, nbcc_vec\u001b[1m)\u001b[0m=\u001b[1;35marray\u001b[0m\u001b[1m(\u001b[0m\u001b[1m[\u001b[0m\u001b[1;36m0\u001b[0m, \u001b[1;36m0\u001b[0m, \u001b[1;36m0\u001b[0m\u001b[1m]\u001b[0m, \u001b[33mdtype\u001b[0m=\u001b[35mint64\u001b[0m\u001b[1m)\u001b[0m\n"
      ]
     },
     "metadata": {},
     "output_type": "display_data"
    }
   ],
   "source": [
    "print(f\"{factored_max_trace(L2, nbcc_vec)=}\")\n",
    "print(f\"{factored_min_trace(L2, nbcc_vec)=}\")"
   ]
  },
  {
   "cell_type": "markdown",
   "id": "fe1d2f28-4f31-4032-a1c5-680c384326af",
   "metadata": {
    "tags": []
   },
   "source": [
    "## 7. Occupancies 🏠 🏢 🏥\n",
    "\n",
    "> In buildings, loads can often be grouped together in different occupancies.\n",
    ">\n",
    "> `dict`s can be useful for organizing these."
   ]
  },
  {
   "cell_type": "markdown",
   "id": "214c645a-9793-4294-a9e7-a51efc58b1c3",
   "metadata": {},
   "source": [
    "### A. Occupancy dictionaries 📔"
   ]
  },
  {
   "cell_type": "code",
   "execution_count": 29,
   "id": "0ba2c2d0-d914-4389-8c52-d7a4580ca744",
   "metadata": {
    "tags": []
   },
   "outputs": [],
   "source": [
    "occupancies_dict = {\n",
    "    \"Residential\": {\n",
    "        \"SW\": 1.3,\n",
    "        \"SDL\": 1.1,\n",
    "        \"L\": 2.4,\n",
    "    },\n",
    "    \"Residential Roof\": {\n",
    "        \"SW\": 0.6,\n",
    "        \"SDL\": 0.3,\n",
    "        \"Snow\": 1.1,\n",
    "        \"Rain\": 0.2,\n",
    "    },\n",
    "    \"Residential Amenity Roof\": {\n",
    "        \"SW\": 1.4,\n",
    "        \"SDL\": 1.0,\n",
    "        \"Planter Soil\": 3.6,\n",
    "        \"L\": 4.8,\n",
    "    },\n",
    "    \"Rooftop Mech\": {\n",
    "         \"D\": 1.83,\n",
    "     },\n",
    "}"
   ]
  },
  {
   "cell_type": "code",
   "execution_count": 30,
   "id": "7bd78f1a-959a-463f-8e47-8a485aed3429",
   "metadata": {
    "tags": []
   },
   "outputs": [
    {
     "data": {
      "text/html": [
       "<pre style=\"white-space:pre;overflow-x:auto;line-height:normal;font-family:Menlo,'DejaVu Sans Mono',consolas,'Courier New',monospace\"><span style=\"color: #808000; text-decoration-color: #808000\">occupancy</span>=<span style=\"color: #008000; text-decoration-color: #008000\">'Residential Roof'</span>\n",
       "</pre>\n"
      ],
      "text/plain": [
       "\u001b[33moccupancy\u001b[0m=\u001b[32m'Residential Roof'\u001b[0m\n"
      ]
     },
     "metadata": {},
     "output_type": "display_data"
    },
    {
     "data": {
      "text/html": [
       "<pre style=\"white-space:pre;overflow-x:auto;line-height:normal;font-family:Menlo,'DejaVu Sans Mono',consolas,'Courier New',monospace\"><span style=\"color: #808000; text-decoration-color: #808000\">service_loads</span>=<span style=\"color: #800080; text-decoration-color: #800080; font-weight: bold\">Load</span><span style=\"font-weight: bold\">(</span><span style=\"color: #808000; text-decoration-color: #808000\">D</span>=<span style=\"color: #008080; text-decoration-color: #008080; font-weight: bold\">0.8999999999999999</span>, <span style=\"color: #808000; text-decoration-color: #808000\">L</span>=<span style=\"color: #008080; text-decoration-color: #008080; font-weight: bold\">0.0</span>, <span style=\"color: #808000; text-decoration-color: #808000\">S</span>=<span style=\"color: #008080; text-decoration-color: #008080; font-weight: bold\">1.3</span>, <span style=\"color: #808000; text-decoration-color: #808000\">W</span>=<span style=\"color: #008080; text-decoration-color: #008080; font-weight: bold\">0.0</span>, <span style=\"color: #808000; text-decoration-color: #808000\">E</span>=<span style=\"color: #008080; text-decoration-color: #008080; font-weight: bold\">0.0</span><span style=\"font-weight: bold\">)</span>\n",
       "</pre>\n"
      ],
      "text/plain": [
       "\u001b[33mservice_loads\u001b[0m=\u001b[1;35mLoad\u001b[0m\u001b[1m(\u001b[0m\u001b[33mD\u001b[0m=\u001b[1;36m0\u001b[0m\u001b[1;36m.8999999999999999\u001b[0m, \u001b[33mL\u001b[0m=\u001b[1;36m0\u001b[0m\u001b[1;36m.0\u001b[0m, \u001b[33mS\u001b[0m=\u001b[1;36m1\u001b[0m\u001b[1;36m.3\u001b[0m, \u001b[33mW\u001b[0m=\u001b[1;36m0\u001b[0m\u001b[1;36m.0\u001b[0m, \u001b[33mE\u001b[0m=\u001b[1;36m0\u001b[0m\u001b[1;36m.0\u001b[0m\u001b[1m)\u001b[0m\n"
      ]
     },
     "metadata": {},
     "output_type": "display_data"
    },
    {
     "data": {
      "text/html": [
       "<pre style=\"white-space:pre;overflow-x:auto;line-height:normal;font-family:Menlo,'DejaVu Sans Mono',consolas,'Courier New',monospace\"><span style=\"color: #808000; text-decoration-color: #808000\">factored</span>=<span style=\"color: #008080; text-decoration-color: #008080; font-weight: bold\">3.075</span>\n",
       "</pre>\n"
      ],
      "text/plain": [
       "\u001b[33mfactored\u001b[0m=\u001b[1;36m3\u001b[0m\u001b[1;36m.075\u001b[0m\n"
      ]
     },
     "metadata": {},
     "output_type": "display_data"
    }
   ],
   "source": [
    "occupancy = \"Residential Roof\"\n",
    "\n",
    "service_loads = alias_to_service_loads(\n",
    "    occupancies_dict[occupancy],\n",
    "    alias_lookup\n",
    ")\n",
    "print(f\"{occupancy=}\")\n",
    "print(f\"{service_loads=}\")\n",
    "factored = factored_max(\n",
    "    service_loads,\n",
    "    nbcc_vec\n",
    ")\n",
    "\n",
    "print(f\"{factored=}\")"
   ]
  },
  {
   "cell_type": "markdown",
   "id": "1ad2c514-6deb-46ec-9b3c-4aff0bda7f75",
   "metadata": {},
   "source": [
    "### B. Occupancy vectors ➡➡➡➡➡\n",
    "\n",
    "> If you are wanting to use vectors for occupancies, it is easiest to use have your vectors already as _service loads_."
   ]
  },
  {
   "cell_type": "code",
   "execution_count": 31,
   "id": "f062189b-966e-457d-b755-1162e52d432e",
   "metadata": {
    "tags": []
   },
   "outputs": [],
   "source": [
    "# \n",
    "occupancies_vec = {\n",
    "    \"Residential\": np.array([2.4, 2.4, 0, 0, 0]),\n",
    "    \"Residential Roof\": np.array([0.9, 0, 1.3, 0, 0]),\n",
    "    \"Residential Amenity Roof\": np.array([2.6, 4.8, 0, 0, 0]),\n",
    "    \"Rooftop Mech\": np.array([1.83, 0, 0, 0, 0]),\n",
    "}"
   ]
  },
  {
   "cell_type": "code",
   "execution_count": 32,
   "id": "8b671f4c-02f3-4ff2-aa71-4db96b5b9754",
   "metadata": {},
   "outputs": [
    {
     "data": {
      "text/html": [
       "<pre style=\"white-space:pre;overflow-x:auto;line-height:normal;font-family:Menlo,'DejaVu Sans Mono',consolas,'Courier New',monospace\"><span style=\"color: #808000; text-decoration-color: #808000\">service_loads</span>=<span style=\"color: #800080; text-decoration-color: #800080; font-weight: bold\">array</span><span style=\"font-weight: bold\">([</span><span style=\"color: #008080; text-decoration-color: #008080; font-weight: bold\">2.6</span>, <span style=\"color: #008080; text-decoration-color: #008080; font-weight: bold\">4.8</span>, <span style=\"color: #008080; text-decoration-color: #008080; font-weight: bold\">0</span>. , <span style=\"color: #008080; text-decoration-color: #008080; font-weight: bold\">0</span>. , <span style=\"color: #008080; text-decoration-color: #008080; font-weight: bold\">0</span>. <span style=\"font-weight: bold\">])</span>\n",
       "</pre>\n"
      ],
      "text/plain": [
       "\u001b[33mservice_loads\u001b[0m=\u001b[1;35marray\u001b[0m\u001b[1m(\u001b[0m\u001b[1m[\u001b[0m\u001b[1;36m2.6\u001b[0m, \u001b[1;36m4.8\u001b[0m, \u001b[1;36m0\u001b[0m. , \u001b[1;36m0\u001b[0m. , \u001b[1;36m0\u001b[0m. \u001b[1m]\u001b[0m\u001b[1m)\u001b[0m\n"
      ]
     },
     "metadata": {},
     "output_type": "display_data"
    },
    {
     "data": {
      "text/html": [
       "<pre style=\"white-space:pre;overflow-x:auto;line-height:normal;font-family:Menlo,'DejaVu Sans Mono',consolas,'Courier New',monospace\"><span style=\"color: #808000; text-decoration-color: #808000\">max_fl</span>=<span style=\"color: #008080; text-decoration-color: #008080; font-weight: bold\">10.45</span>, <span style=\"color: #808000; text-decoration-color: #808000\">governing</span>=<span style=\"color: #008080; text-decoration-color: #008080; font-weight: bold\">1</span>\n",
       "</pre>\n"
      ],
      "text/plain": [
       "\u001b[33mmax_fl\u001b[0m=\u001b[1;36m10\u001b[0m\u001b[1;36m.45\u001b[0m, \u001b[33mgoverning\u001b[0m=\u001b[1;36m1\u001b[0m\n"
      ]
     },
     "metadata": {},
     "output_type": "display_data"
    }
   ],
   "source": [
    "occupancy = \"Residential Amenity Roof\"\n",
    "service_loads = occupancies_vec[occupancy]\n",
    "\n",
    "max_fl = factored_max(service_loads, nbcc_vec)\n",
    "factored = factored_max_trace(\n",
    "    service_loads,\n",
    "    nbcc_vec\n",
    ")\n",
    "\n",
    "governing = factored\n",
    "print(f\"{service_loads=}\")\n",
    "print(f\"{max_fl=}, {governing=}\")\n",
    "# print(f\"{nbcc_dict[governing]}\")"
   ]
  },
  {
   "cell_type": "markdown",
   "id": "6323c872-c36a-46e3-89e2-e9d48b4e9db3",
   "metadata": {},
   "source": [
    "# Practical Example 🔨"
   ]
  },
  {
   "attachments": {
    "2355b4e2-d886-4a9d-8911-491204571d32.png": {
     "image/png": "[encoded data removed]"
    }
   },
   "cell_type": "markdown",
   "id": "f1b4287e-b5ef-4365-a5e9-8cbef309319e",
   "metadata": {},
   "source": [
    "![image.png](attachment:2355b4e2-d886-4a9d-8911-491204571d32.png)"
   ]
  },
  {
   "cell_type": "code",
   "execution_count": 59,
   "id": "bee34bf8-8278-4536-8697-fd81866e6ba3",
   "metadata": {},
   "outputs": [],
   "source": [
    "import itertools"
   ]
  },
  {
   "cell_type": "code",
   "execution_count": null,
   "id": "6b33a310-fa3d-47ba-91e2-260705ad88ea",
   "metadata": {},
   "outputs": [],
   "source": [
    "[1.4, 0.0, 0.0, 0.0, 0.0],\n",
    "[1.25, 1.5, 0.0, 0.0, 0.0],\n",
    "[1.25, 1.5, 1.0, 0.0, 0.0],\n",
    "[1.25, 1.5, 0.0, 0.4, 0.0],\n",
    "[0.90, 1.5, 0.0, 0.0, 0.0],\n",
    "[0.90, 1.5, 1.0, 0.0, 0.0],\n",
    "[0.90, 1.5, 0.0, 0.4, 0.0],\n",
    "[1.25, 0.0, 1.5, 0.0, 0.0],\n",
    "[1.25, 1.0, 1.5, 0.0, 0.0],\n",
    "[1.25, 0.0, 1.5, 0.4, 0.0],\n",
    "[0.90, 0.0, 1.5, 0.0, 0.0],\n",
    "[0.90, 1.0, 1.5, 0.0, 0.0],\n",
    "[0.90, 0.0, 1.5, 0.4, 0.0],\n",
    "[1.25, 0.0, 0.0, 1.4, 0.0],\n",
    "[1.25, 0.5, 0.0, 1.4, 0.0],\n",
    "[1.25, 0.0, 0.5, 1.4, 0.0],\n",
    "[0.90, 0.0, 0.0, 1.4, 0.0],\n",
    "[0.90, 0.5, 0.0, 1.4, 0.0],\n",
    "[0.90, 0.0, 0.5, 1.4, 0.0],\n",
    "[1.00, 0.0, 0.0, 0.0, 1.0],\n",
    "[1.00, 0.5, 0.25, 0.0, 1.0]"
   ]
  },
  {
   "cell_type": "code",
   "execution_count": null,
   "id": "281cc3ff-a9bd-46e5-8536-30e9a413a866",
   "metadata": {},
   "outputs": [],
   "source": []
  }
 ],
 "metadata": {
  "kernelspec": {
   "display_name": "youtube",
   "language": "python",
   "name": "youtube"
  },
  "language_info": {
   "codemirror_mode": {
    "name": "ipython",
    "version": 3
   },
   "file_extension": ".py",
   "mimetype": "text/x-python",
   "name": "python",
   "nbconvert_exporter": "python",
   "pygments_lexer": "ipython3",
   "version": "3.10.8"
  }
 },
 "nbformat": 4,
 "nbformat_minor": 5
}
